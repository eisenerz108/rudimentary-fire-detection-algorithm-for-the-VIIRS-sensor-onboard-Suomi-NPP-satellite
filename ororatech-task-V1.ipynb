{
 "cells": [
  {
   "cell_type": "markdown",
   "source": [
    "# OroraTech Challenge"
   ],
   "metadata": {
    "collapsed": false,
    "pycharm": {
     "name": "#%% md\n"
    }
   }
  },
  {
   "cell_type": "markdown",
   "source": [
    "#### Importing Packages"
   ],
   "metadata": {
    "collapsed": false,
    "pycharm": {
     "name": "#%% md\n"
    }
   }
  },
  {
   "cell_type": "code",
   "execution_count": 2,
   "metadata": {
    "collapsed": true
   },
   "outputs": [],
   "source": [
    "import netCDF4 as nc\n",
    "import os\n",
    "\n",
    "import numpy as np\n",
    "from matplotlib import pyplot as plt\n",
    "from mpl_toolkits.basemap import Basemap\n",
    "import numpy as np\n",
    "import cv2 as cv\n",
    "import geopandas as gpd\n",
    "import pandas as pd\n",
    "from shapely.geometry import Point\n",
    "from keplergl import KeplerGl"
   ]
  },
  {
   "cell_type": "markdown",
   "source": [
    "#### Fetching the Data Set"
   ],
   "metadata": {
    "collapsed": false,
    "pycharm": {
     "name": "#%% md\n"
    }
   }
  },
  {
   "cell_type": "code",
   "execution_count": 3,
   "outputs": [],
   "source": [
    "folder_path = 'input_data'\n",
    "radiance_filename = 'VNP02MOD_NRT.A2020233.1000.001.nc'\n",
    "geolocation_filename = 'VNP03MOD_NRT.A2020233.1000.001.nc'\n",
    "\n",
    "# Creating the File Path\n",
    "radiance_filepath = os.path.join(folder_path, radiance_filename)\n",
    "geolocation_filepath = os.path.join(folder_path, geolocation_filename)\n",
    "\n",
    "# Fetching the data file and storing in a variable.\n",
    "radiance_netcdf = nc.Dataset(radiance_filepath)\n",
    "geolocation_netcdf = nc.Dataset(geolocation_filepath)"
   ],
   "metadata": {
    "collapsed": false,
    "pycharm": {
     "name": "#%%\n"
    }
   }
  },
  {
   "cell_type": "code",
   "execution_count": 4,
   "outputs": [],
   "source": [
    "# Fetching the Variables from the respective group of the nc file.\n",
    "m13_fire_variable = radiance_netcdf['/observation_data/M13']\n",
    "latitude_variable = geolocation_netcdf['/geolocation_data/latitude']\n",
    "longitude_variable = geolocation_netcdf['/geolocation_data/longitude']\n",
    "\n",
    "# Fetching the units and the array of values.\n",
    "m13_units = m13_fire_variable.units\n",
    "m13_fire_array = m13_fire_variable[:]\n",
    "\n",
    "# Fetching the array of values.\n",
    "latitude_array = latitude_variable[:]\n",
    "longitude_array = longitude_variable[:]"
   ],
   "metadata": {
    "collapsed": false,
    "pycharm": {
     "name": "#%%\n"
    }
   }
  },
  {
   "cell_type": "code",
   "execution_count": 12,
   "outputs": [
    {
     "name": "stderr",
     "output_type": "stream",
     "text": [
      "C:\\TheFourthReich\\anaconda3\\envs\\gisenv\\lib\\site-packages\\ipykernel_launcher.py:19: DeprecationWarning: `np.int` is a deprecated alias for the builtin `int`. To silence this warning, use `int` by itself. Doing this will not modify any behavior and is safe. When replacing `np.int`, you may wish to use e.g. `np.int64` or `np.int32` to specify the precision. If you wish to review your current use, check the release note link for additional information.\n",
      "Deprecated in NumPy 1.20; for more details and guidance: https://numpy.org/devdocs/release/1.20.0-notes.html#deprecations\n"
     ]
    },
    {
     "data": {
      "text/plain": "-1"
     },
     "execution_count": 12,
     "metadata": {},
     "output_type": "execute_result"
    }
   ],
   "source": [
    "# Rescaling the Fire Array to display on the screen\n",
    "def rescaleFrame(frame, scale):\n",
    "    width = int(frame.shape[1] * scale)\n",
    "    height = int(frame.shape[0] * scale)\n",
    "    dimensions = (width, height)\n",
    "\n",
    "    return cv.resize(frame, dimensions, interpolation=cv.INTER_AREA)\n",
    "\n",
    "m13_fire_array_rescaled = rescaleFrame(m13_fire_array, 0.25)\n",
    "\n",
    "# Applying a binary threshold value.\n",
    "ret, thresh1 = cv.threshold(m13_fire_array_rescaled, 0.85,1, cv.THRESH_BINARY)\n",
    "\n",
    "# Plotting the Threshold image on the screen.\n",
    "cv.imshow('Threshold-Fire',thresh1)\n",
    "\n",
    "# Saving the image in output directory.\n",
    "frame_normed = 255 * (thresh1 - thresh1.min()) / (thresh1.max() - thresh1.min())\n",
    "frame_normed = np.array(frame_normed, np.int)\n",
    "output_folder = 'output'\n",
    "threshold_filename = 'binarythreshold_image.png'\n",
    "threshold_filepath = os.path.join(output_folder, threshold_filename)\n",
    "cv.imwrite(filename=threshold_filepath, img=frame_normed)\n",
    "cv.waitKey(0)"
   ],
   "metadata": {
    "collapsed": false,
    "pycharm": {
     "name": "#%%\n"
    }
   }
  },
  {
   "cell_type": "markdown",
   "source": [
    "### Steps for moving the data into DataFrame (& GeoDataFrame)"
   ],
   "metadata": {
    "collapsed": false,
    "pycharm": {
     "name": "#%% md\n"
    }
   }
  },
  {
   "cell_type": "code",
   "execution_count": null,
   "outputs": [],
   "source": [
    "# Flattening the array and converting them to a list to insert them in a dataframe.\n",
    "m13_fire_list = list(m13_fire_array.flatten())\n",
    "longitude_list = list(longitude_array.flatten())\n",
    "latitude_list = list(latitude_array.flatten())\n",
    "\n"
   ],
   "metadata": {
    "collapsed": false,
    "pycharm": {
     "name": "#%%\n"
    }
   }
  }
 ],
 "metadata": {
  "kernelspec": {
   "name": "pycharm-16c9b7e3",
   "language": "python",
   "display_name": "PyCharm (Aman_GIS_OSMnx_Berlin)"
  },
  "language_info": {
   "codemirror_mode": {
    "name": "ipython",
    "version": 2
   },
   "file_extension": ".py",
   "mimetype": "text/x-python",
   "name": "python",
   "nbconvert_exporter": "python",
   "pygments_lexer": "ipython2",
   "version": "2.7.6"
  }
 },
 "nbformat": 4,
 "nbformat_minor": 0
}