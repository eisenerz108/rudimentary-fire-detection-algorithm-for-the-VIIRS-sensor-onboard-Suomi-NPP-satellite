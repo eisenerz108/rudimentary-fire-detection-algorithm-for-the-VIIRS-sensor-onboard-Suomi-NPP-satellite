{
 "cells": [
  {
   "cell_type": "markdown",
   "source": [
    "# OroraTech Challenge"
   ],
   "metadata": {
    "collapsed": false,
    "pycharm": {
     "name": "#%% md\n"
    }
   }
  },
  {
   "cell_type": "markdown",
   "source": [
    "#### Importing Packages"
   ],
   "metadata": {
    "collapsed": false,
    "pycharm": {
     "name": "#%% md\n"
    }
   }
  },
  {
   "cell_type": "code",
   "execution_count": 15,
   "metadata": {
    "collapsed": true
   },
   "outputs": [],
   "source": [
    "import netCDF4 as nc\n",
    "import os\n",
    "\n",
    "import numpy as np\n",
    "from matplotlib import pyplot as plt\n",
    "from mpl_toolkits.basemap import Basemap\n",
    "import numpy as np\n",
    "import cv2 as cv\n",
    "import geopandas as gpd\n",
    "import pandas as pd\n",
    "import numpy.ma as ma\n",
    "from shapely.geometry import Point\n",
    "from keplergl import KeplerGl"
   ]
  },
  {
   "cell_type": "markdown",
   "source": [
    "#### Fetching the Data Set"
   ],
   "metadata": {
    "collapsed": false,
    "pycharm": {
     "name": "#%% md\n"
    }
   }
  },
  {
   "cell_type": "code",
   "execution_count": 3,
   "outputs": [],
   "source": [
    "folder_path = 'input_data'\n",
    "radiance_filename = 'VNP02MOD_NRT.A2020233.1000.001.nc'\n",
    "geolocation_filename = 'VNP03MOD_NRT.A2020233.1000.001.nc'\n",
    "\n",
    "# Creating the File Path\n",
    "radiance_filepath = os.path.join(folder_path, radiance_filename)\n",
    "geolocation_filepath = os.path.join(folder_path, geolocation_filename)\n",
    "\n",
    "# Fetching the data file and storing in a variable.\n",
    "radiance_netcdf = nc.Dataset(radiance_filepath)\n",
    "geolocation_netcdf = nc.Dataset(geolocation_filepath)"
   ],
   "metadata": {
    "collapsed": false,
    "pycharm": {
     "name": "#%%\n"
    }
   }
  },
  {
   "cell_type": "code",
   "execution_count": 4,
   "outputs": [],
   "source": [
    "# Fetching the Variables from the respective group of the nc file.\n",
    "m13_fire_variable = radiance_netcdf['/observation_data/M13']\n",
    "latitude_variable = geolocation_netcdf['/geolocation_data/latitude']\n",
    "longitude_variable = geolocation_netcdf['/geolocation_data/longitude']\n",
    "\n",
    "# Fetching the units and the array of values.\n",
    "m13_units = m13_fire_variable.units\n",
    "m13_fire_array = m13_fire_variable[:]\n",
    "\n",
    "# Fetching the array of values.\n",
    "latitude_array = latitude_variable[:]\n",
    "longitude_array = longitude_variable[:]"
   ],
   "metadata": {
    "collapsed": false,
    "pycharm": {
     "name": "#%%\n"
    }
   }
  },
  {
   "cell_type": "code",
   "execution_count": 12,
   "outputs": [
    {
     "name": "stderr",
     "output_type": "stream",
     "text": [
      "C:\\TheFourthReich\\anaconda3\\envs\\gisenv\\lib\\site-packages\\ipykernel_launcher.py:19: DeprecationWarning: `np.int` is a deprecated alias for the builtin `int`. To silence this warning, use `int` by itself. Doing this will not modify any behavior and is safe. When replacing `np.int`, you may wish to use e.g. `np.int64` or `np.int32` to specify the precision. If you wish to review your current use, check the release note link for additional information.\n",
      "Deprecated in NumPy 1.20; for more details and guidance: https://numpy.org/devdocs/release/1.20.0-notes.html#deprecations\n"
     ]
    },
    {
     "data": {
      "text/plain": "-1"
     },
     "execution_count": 12,
     "metadata": {},
     "output_type": "execute_result"
    }
   ],
   "source": [
    "# Rescaling the Fire Array to display on the screen\n",
    "def rescaleFrame(frame, scale):\n",
    "    width = int(frame.shape[1] * scale)\n",
    "    height = int(frame.shape[0] * scale)\n",
    "    dimensions = (width, height)\n",
    "\n",
    "    return cv.resize(frame, dimensions, interpolation=cv.INTER_AREA)\n",
    "\n",
    "m13_fire_array_rescaled = rescaleFrame(m13_fire_array, 0.25)\n",
    "\n",
    "# Applying a binary threshold value.\n",
    "ret, thresh1 = cv.threshold(m13_fire_array_rescaled, 0.85,1, cv.THRESH_BINARY)\n",
    "\n",
    "# Plotting the Threshold image on the screen.\n",
    "cv.imshow('Threshold-Fire',thresh1)\n",
    "\n",
    "# Saving the image in output directory.\n",
    "frame_normed = 255 * (thresh1 - thresh1.min()) / (thresh1.max() - thresh1.min())\n",
    "frame_normed = np.array(frame_normed, np.int)\n",
    "output_folder = 'output'\n",
    "threshold_filename = 'binarythreshold_image.png'\n",
    "threshold_filepath = os.path.join(output_folder, threshold_filename)\n",
    "cv.imwrite(filename=threshold_filepath, img=frame_normed)\n",
    "cv.waitKey(0)"
   ],
   "metadata": {
    "collapsed": false,
    "pycharm": {
     "name": "#%%\n"
    }
   }
  },
  {
   "cell_type": "markdown",
   "source": [
    "### Steps for moving the data into DataFrame (& GeoDataFrame)"
   ],
   "metadata": {
    "collapsed": false,
    "pycharm": {
     "name": "#%% md\n"
    }
   }
  },
  {
   "cell_type": "code",
   "execution_count": 13,
   "outputs": [],
   "source": [
    "# Flattening the array and converting them to a list to insert them in a dataframe.\n",
    "longitude_list = list(longitude_array.flatten())\n",
    "latitude_list = list(latitude_array.flatten())\n"
   ],
   "metadata": {
    "collapsed": false,
    "pycharm": {
     "name": "#%%\n"
    }
   }
  },
  {
   "cell_type": "code",
   "execution_count": 19,
   "outputs": [],
   "source": [
    "m13_fire_list = list(ma.masked_values(m13_fire_array, np.nan).flatten())"
   ],
   "metadata": {
    "collapsed": false,
    "pycharm": {
     "name": "#%%\n"
    }
   }
  },
  {
   "cell_type": "code",
   "execution_count": 24,
   "outputs": [
    {
     "data": {
      "text/plain": "   Fire   Longitude   Latitude\n0   NaN -139.746368  47.533764\n1   NaN -139.724014  47.534237\n2   NaN -139.701721  47.534702\n3   NaN -139.679504  47.535152\n4   NaN -139.657318  47.535599",
      "text/html": "<div>\n<style scoped>\n    .dataframe tbody tr th:only-of-type {\n        vertical-align: middle;\n    }\n\n    .dataframe tbody tr th {\n        vertical-align: top;\n    }\n\n    .dataframe thead th {\n        text-align: right;\n    }\n</style>\n<table border=\"1\" class=\"dataframe\">\n  <thead>\n    <tr style=\"text-align: right;\">\n      <th></th>\n      <th>Fire</th>\n      <th>Longitude</th>\n      <th>Latitude</th>\n    </tr>\n  </thead>\n  <tbody>\n    <tr>\n      <th>0</th>\n      <td>NaN</td>\n      <td>-139.746368</td>\n      <td>47.533764</td>\n    </tr>\n    <tr>\n      <th>1</th>\n      <td>NaN</td>\n      <td>-139.724014</td>\n      <td>47.534237</td>\n    </tr>\n    <tr>\n      <th>2</th>\n      <td>NaN</td>\n      <td>-139.701721</td>\n      <td>47.534702</td>\n    </tr>\n    <tr>\n      <th>3</th>\n      <td>NaN</td>\n      <td>-139.679504</td>\n      <td>47.535152</td>\n    </tr>\n    <tr>\n      <th>4</th>\n      <td>NaN</td>\n      <td>-139.657318</td>\n      <td>47.535599</td>\n    </tr>\n  </tbody>\n</table>\n</div>"
     },
     "execution_count": 24,
     "metadata": {},
     "output_type": "execute_result"
    }
   ],
   "source": [
    "fire_geolocation_df = pd.DataFrame({'Fire' : m13_fire_list, 'Longitude' : longitude_list, 'Latitude' : latitude_list})\n",
    "fire_geolocation_df.head()"
   ],
   "metadata": {
    "collapsed": false,
    "pycharm": {
     "name": "#%%\n"
    }
   }
  },
  {
   "cell_type": "code",
   "execution_count": 25,
   "outputs": [
    {
     "data": {
      "text/plain": "          Fire   Longitude   Latitude\n1008  0.365053 -126.349487  47.032814\n1009  0.356964 -126.334282  47.031361\n1010  0.365053 -126.319077  47.029892\n1011  0.381229 -126.303902  47.028431\n1012  0.365053 -126.288765  47.026970",
      "text/html": "<div>\n<style scoped>\n    .dataframe tbody tr th:only-of-type {\n        vertical-align: middle;\n    }\n\n    .dataframe tbody tr th {\n        vertical-align: top;\n    }\n\n    .dataframe thead th {\n        text-align: right;\n    }\n</style>\n<table border=\"1\" class=\"dataframe\">\n  <thead>\n    <tr style=\"text-align: right;\">\n      <th></th>\n      <th>Fire</th>\n      <th>Longitude</th>\n      <th>Latitude</th>\n    </tr>\n  </thead>\n  <tbody>\n    <tr>\n      <th>1008</th>\n      <td>0.365053</td>\n      <td>-126.349487</td>\n      <td>47.032814</td>\n    </tr>\n    <tr>\n      <th>1009</th>\n      <td>0.356964</td>\n      <td>-126.334282</td>\n      <td>47.031361</td>\n    </tr>\n    <tr>\n      <th>1010</th>\n      <td>0.365053</td>\n      <td>-126.319077</td>\n      <td>47.029892</td>\n    </tr>\n    <tr>\n      <th>1011</th>\n      <td>0.381229</td>\n      <td>-126.303902</td>\n      <td>47.028431</td>\n    </tr>\n    <tr>\n      <th>1012</th>\n      <td>0.365053</td>\n      <td>-126.288765</td>\n      <td>47.026970</td>\n    </tr>\n  </tbody>\n</table>\n</div>"
     },
     "execution_count": 25,
     "metadata": {},
     "output_type": "execute_result"
    }
   ],
   "source": [
    "fire_geolocation_df.dropna(inplace=True)\n",
    "fire_geolocation_df.head()"
   ],
   "metadata": {
    "collapsed": false,
    "pycharm": {
     "name": "#%%\n"
    }
   }
  },
  {
   "cell_type": "code",
   "execution_count": null,
   "outputs": [],
   "source": [
    "fire_geolocation_df['geometry'] = [Point(x,y) for x,y in zip(fire_geolocation_df['Longitude'], fire_geolocation_df['Latitude'])]\n",
    "fire_geolocation_df.head()"
   ],
   "metadata": {
    "collapsed": false,
    "pycharm": {
     "name": "#%%\n",
     "is_executing": true
    }
   }
  },
  {
   "cell_type": "code",
   "execution_count": null,
   "outputs": [],
   "source": [
    "fire_geolocation_gdf = gpd.GeoDataFrame(data=fire_geolocation_df, geometry=fire_geolocation_df['geometry'])\n",
    "fire_geolocation_gdf.head()"
   ],
   "metadata": {
    "collapsed": false,
    "pycharm": {
     "name": "#%%\n",
     "is_executing": true
    }
   }
  },
  {
   "cell_type": "code",
   "execution_count": null,
   "outputs": [],
   "source": [
    "fire_geolocation_gdf.set_crs(epsg=4326, inplace=True)"
   ],
   "metadata": {
    "collapsed": false,
    "pycharm": {
     "name": "#%%\n",
     "is_executing": true
    }
   }
  },
  {
   "cell_type": "code",
   "execution_count": null,
   "outputs": [],
   "source": [
    "fire_map = KeplerGl(height=600, width=800)\n",
    "fire_map.add_data(data=fire_geolocation_gdf.copy(), name = 'area_of_interest')\n",
    "fire_filename = 'fire_locations.html'\n",
    "fire_filepath = os.path.join(output_folder, fire_filename)\n",
    "fire_map.save_to_html(file_name=fire_filepath)"
   ],
   "metadata": {
    "collapsed": false,
    "pycharm": {
     "name": "#%%\n"
    }
   }
  }
 ],
 "metadata": {
  "kernelspec": {
   "name": "pycharm-16c9b7e3",
   "language": "python",
   "display_name": "PyCharm (Aman_GIS_OSMnx_Berlin)"
  },
  "language_info": {
   "codemirror_mode": {
    "name": "ipython",
    "version": 2
   },
   "file_extension": ".py",
   "mimetype": "text/x-python",
   "name": "python",
   "nbconvert_exporter": "python",
   "pygments_lexer": "ipython2",
   "version": "2.7.6"
  }
 },
 "nbformat": 4,
 "nbformat_minor": 0
}