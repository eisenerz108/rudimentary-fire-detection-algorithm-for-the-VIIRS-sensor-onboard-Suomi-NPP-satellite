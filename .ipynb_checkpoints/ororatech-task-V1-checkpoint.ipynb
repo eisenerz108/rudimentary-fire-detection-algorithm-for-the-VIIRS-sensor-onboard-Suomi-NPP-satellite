{
 "cells": [
  {
   "cell_type": "markdown",
   "metadata": {
    "pycharm": {
     "name": "#%% md\n"
    }
   },
   "source": [
    "# OroraTech Challenge"
   ]
  },
  {
   "cell_type": "markdown",
   "metadata": {
    "pycharm": {
     "name": "#%% md\n"
    }
   },
   "source": [
    "#### Importing Packages"
   ]
  },
  {
   "cell_type": "code",
   "execution_count": 18,
   "metadata": {
    "collapsed": true
   },
   "outputs": [],
   "source": [
    "import netCDF4 as nc\n",
    "import os\n",
    "\n",
    "import numpy as np\n",
    "from matplotlib import pyplot as plt\n",
    "from mpl_toolkits.basemap import Basemap\n",
    "import numpy as np\n",
    "import cv2 as cv\n",
    "import geopandas as gpd\n",
    "import pandas as pd\n",
    "import numpy.ma as ma\n",
    "from shapely.geometry import Point\n",
    "from keplergl import KeplerGl"
   ]
  },
  {
   "cell_type": "markdown",
   "metadata": {
    "pycharm": {
     "name": "#%% md\n"
    }
   },
   "source": [
    "#### Fetching the Data Set"
   ]
  },
  {
   "cell_type": "code",
   "execution_count": 19,
   "metadata": {
    "pycharm": {
     "name": "#%%\n"
    }
   },
   "outputs": [],
   "source": [
    "folder_path = 'input_data'\n",
    "radiance_filename = 'VNP02MOD_NRT.A2020233.1000.001.nc'\n",
    "geolocation_filename = 'VNP03MOD_NRT.A2020233.1000.001.nc'\n",
    "\n",
    "# Creating the File Path\n",
    "radiance_filepath = os.path.join(folder_path, radiance_filename)\n",
    "geolocation_filepath = os.path.join(folder_path, geolocation_filename)\n",
    "\n",
    "# Fetching the data file and storing in a variable.\n",
    "radiance_netcdf = nc.Dataset(radiance_filepath)\n",
    "geolocation_netcdf = nc.Dataset(geolocation_filepath)"
   ]
  },
  {
   "cell_type": "code",
   "execution_count": 20,
   "metadata": {
    "pycharm": {
     "name": "#%%\n"
    }
   },
   "outputs": [],
   "source": [
    "# Fetching the Variables from the respective group of the nc file.\n",
    "m13_fire_radiance_variable = radiance_netcdf['/observation_data/M13']\n",
    "latitude_variable = geolocation_netcdf['/geolocation_data/latitude']\n",
    "longitude_variable = geolocation_netcdf['/geolocation_data/longitude']\n",
    "\n",
    "# Fetching the units and the array of values.\n",
    "m13_units = m13_fire_radiance_variable.units\n",
    "m13_fire_radiance_array = m13_fire_radiance_variable[:]\n",
    "\n",
    "# Fetching the array of values.\n",
    "latitude_array = latitude_variable[:]\n",
    "longitude_array = longitude_variable[:]"
   ]
  },
  {
   "cell_type": "code",
   "execution_count": 21,
   "metadata": {
    "pycharm": {
     "name": "#%%\n"
    }
   },
   "outputs": [
    {
     "name": "stderr",
     "output_type": "stream",
     "text": [
      "C:\\TheFourthReich\\anaconda3\\envs\\gisenv\\lib\\site-packages\\ipykernel_launcher.py:19: DeprecationWarning: `np.int` is a deprecated alias for the builtin `int`. To silence this warning, use `int` by itself. Doing this will not modify any behavior and is safe. When replacing `np.int`, you may wish to use e.g. `np.int64` or `np.int32` to specify the precision. If you wish to review your current use, check the release note link for additional information.\n",
      "Deprecated in NumPy 1.20; for more details and guidance: https://numpy.org/devdocs/release/1.20.0-notes.html#deprecations\n"
     ]
    },
    {
     "data": {
      "text/plain": [
       "True"
      ]
     },
     "execution_count": 21,
     "metadata": {},
     "output_type": "execute_result"
    }
   ],
   "source": [
    "# Rescaling the fire_radiance Array to display on the screen\n",
    "def rescaleFrame(frame, scale):\n",
    "    width = int(frame.shape[1] * scale)\n",
    "    height = int(frame.shape[0] * scale)\n",
    "    dimensions = (width, height)\n",
    "\n",
    "    return cv.resize(frame, dimensions, interpolation=cv.INTER_AREA)\n",
    "\n",
    "m13_fire_radiance_array_rescaled = rescaleFrame(m13_fire_radiance_array, 0.25)\n",
    "\n",
    "# Applying a binary threshold value.\n",
    "ret, thresh1 = cv.threshold(m13_fire_radiance_array_rescaled, 0.85,1, cv.THRESH_BINARY)\n",
    "\n",
    "# Plotting the Threshold image on the screen.\n",
    "#cv.imshow('Threshold-fire_radiance',thresh1)\n",
    "\n",
    "# Saving the image in output directory.\n",
    "frame_normed = 255 * (thresh1 - thresh1.min()) / (thresh1.max() - thresh1.min())\n",
    "frame_normed = np.array(frame_normed, np.int)\n",
    "output_folder = 'output'\n",
    "threshold_filename = 'binarythreshold_image.png'\n",
    "threshold_filepath = os.path.join(output_folder, threshold_filename)\n",
    "cv.imwrite(filename=threshold_filepath, img=frame_normed)\n",
    "#cv.waitKey(0)"
   ]
  },
  {
   "cell_type": "markdown",
   "metadata": {
    "pycharm": {
     "name": "#%% md\n"
    }
   },
   "source": [
    "### Steps for moving the data into DataFrame (& GeoDataFrame)"
   ]
  },
  {
   "cell_type": "code",
   "execution_count": 22,
   "metadata": {
    "pycharm": {
     "name": "#%%\n"
    }
   },
   "outputs": [],
   "source": [
    "# Flattening the array and converting them to a list to insert them in a dataframe.\n",
    "longitude_list = list(longitude_array.flatten())\n",
    "latitude_list = list(latitude_array.flatten())"
   ]
  },
  {
   "cell_type": "code",
   "execution_count": 23,
   "metadata": {
    "pycharm": {
     "name": "#%%\n"
    }
   },
   "outputs": [],
   "source": [
    "# Replacing the Masked value into NaN and converting the array into list for the dataframe.\n",
    "m13_fire_radiance_list = list(ma.masked_values(m13_fire_radiance_array, np.nan).flatten())"
   ]
  },
  {
   "cell_type": "code",
   "execution_count": 24,
   "metadata": {
    "pycharm": {
     "name": "#%%\n"
    }
   },
   "outputs": [
    {
     "data": {
      "text/html": [
       "<div>\n",
       "<style scoped>\n",
       "    .dataframe tbody tr th:only-of-type {\n",
       "        vertical-align: middle;\n",
       "    }\n",
       "\n",
       "    .dataframe tbody tr th {\n",
       "        vertical-align: top;\n",
       "    }\n",
       "\n",
       "    .dataframe thead th {\n",
       "        text-align: right;\n",
       "    }\n",
       "</style>\n",
       "<table border=\"1\" class=\"dataframe\">\n",
       "  <thead>\n",
       "    <tr style=\"text-align: right;\">\n",
       "      <th></th>\n",
       "      <th>fire_radiance</th>\n",
       "      <th>Longitude</th>\n",
       "      <th>Latitude</th>\n",
       "    </tr>\n",
       "  </thead>\n",
       "  <tbody>\n",
       "    <tr>\n",
       "      <th>0</th>\n",
       "      <td>NaN</td>\n",
       "      <td>-139.746368</td>\n",
       "      <td>47.533764</td>\n",
       "    </tr>\n",
       "    <tr>\n",
       "      <th>1</th>\n",
       "      <td>NaN</td>\n",
       "      <td>-139.724014</td>\n",
       "      <td>47.534237</td>\n",
       "    </tr>\n",
       "    <tr>\n",
       "      <th>2</th>\n",
       "      <td>NaN</td>\n",
       "      <td>-139.701721</td>\n",
       "      <td>47.534702</td>\n",
       "    </tr>\n",
       "    <tr>\n",
       "      <th>3</th>\n",
       "      <td>NaN</td>\n",
       "      <td>-139.679504</td>\n",
       "      <td>47.535152</td>\n",
       "    </tr>\n",
       "    <tr>\n",
       "      <th>4</th>\n",
       "      <td>NaN</td>\n",
       "      <td>-139.657318</td>\n",
       "      <td>47.535599</td>\n",
       "    </tr>\n",
       "  </tbody>\n",
       "</table>\n",
       "</div>"
      ],
      "text/plain": [
       "   fire_radiance   Longitude   Latitude\n",
       "0            NaN -139.746368  47.533764\n",
       "1            NaN -139.724014  47.534237\n",
       "2            NaN -139.701721  47.534702\n",
       "3            NaN -139.679504  47.535152\n",
       "4            NaN -139.657318  47.535599"
      ]
     },
     "execution_count": 24,
     "metadata": {},
     "output_type": "execute_result"
    }
   ],
   "source": [
    "# Creating a new dataframe, with the fire radiance and coordinates of the spots.\n",
    "fire_radiance_geolocation_df = pd.DataFrame({'fire_radiance' : m13_fire_radiance_list, 'Longitude' : longitude_list, 'Latitude' : latitude_list})\n",
    "fire_radiance_geolocation_df.head()"
   ]
  },
  {
   "cell_type": "code",
   "execution_count": 25,
   "metadata": {
    "pycharm": {
     "name": "#%%\n"
    }
   },
   "outputs": [
    {
     "data": {
      "text/html": [
       "<div>\n",
       "<style scoped>\n",
       "    .dataframe tbody tr th:only-of-type {\n",
       "        vertical-align: middle;\n",
       "    }\n",
       "\n",
       "    .dataframe tbody tr th {\n",
       "        vertical-align: top;\n",
       "    }\n",
       "\n",
       "    .dataframe thead th {\n",
       "        text-align: right;\n",
       "    }\n",
       "</style>\n",
       "<table border=\"1\" class=\"dataframe\">\n",
       "  <thead>\n",
       "    <tr style=\"text-align: right;\">\n",
       "      <th></th>\n",
       "      <th>fire_radiance</th>\n",
       "      <th>Longitude</th>\n",
       "      <th>Latitude</th>\n",
       "    </tr>\n",
       "  </thead>\n",
       "  <tbody>\n",
       "    <tr>\n",
       "      <th>1008</th>\n",
       "      <td>0.365053</td>\n",
       "      <td>-126.349487</td>\n",
       "      <td>47.032814</td>\n",
       "    </tr>\n",
       "    <tr>\n",
       "      <th>1009</th>\n",
       "      <td>0.356964</td>\n",
       "      <td>-126.334282</td>\n",
       "      <td>47.031361</td>\n",
       "    </tr>\n",
       "    <tr>\n",
       "      <th>1010</th>\n",
       "      <td>0.365053</td>\n",
       "      <td>-126.319077</td>\n",
       "      <td>47.029892</td>\n",
       "    </tr>\n",
       "    <tr>\n",
       "      <th>1011</th>\n",
       "      <td>0.381229</td>\n",
       "      <td>-126.303902</td>\n",
       "      <td>47.028431</td>\n",
       "    </tr>\n",
       "    <tr>\n",
       "      <th>1012</th>\n",
       "      <td>0.365053</td>\n",
       "      <td>-126.288765</td>\n",
       "      <td>47.026970</td>\n",
       "    </tr>\n",
       "  </tbody>\n",
       "</table>\n",
       "</div>"
      ],
      "text/plain": [
       "      fire_radiance   Longitude   Latitude\n",
       "1008       0.365053 -126.349487  47.032814\n",
       "1009       0.356964 -126.334282  47.031361\n",
       "1010       0.365053 -126.319077  47.029892\n",
       "1011       0.381229 -126.303902  47.028431\n",
       "1012       0.365053 -126.288765  47.026970"
      ]
     },
     "execution_count": 25,
     "metadata": {},
     "output_type": "execute_result"
    }
   ],
   "source": [
    "# Dropping the entries which have no fire radiance values\n",
    "fire_radiance_geolocation_df.dropna(inplace=True)\n",
    "fire_radiance_geolocation_df.head()"
   ]
  },
  {
   "cell_type": "code",
   "execution_count": 26,
   "metadata": {
    "pycharm": {
     "name": "#%%\n"
    }
   },
   "outputs": [
    {
     "data": {
      "text/html": [
       "<div>\n",
       "<style scoped>\n",
       "    .dataframe tbody tr th:only-of-type {\n",
       "        vertical-align: middle;\n",
       "    }\n",
       "\n",
       "    .dataframe tbody tr th {\n",
       "        vertical-align: top;\n",
       "    }\n",
       "\n",
       "    .dataframe thead th {\n",
       "        text-align: right;\n",
       "    }\n",
       "</style>\n",
       "<table border=\"1\" class=\"dataframe\">\n",
       "  <thead>\n",
       "    <tr style=\"text-align: right;\">\n",
       "      <th></th>\n",
       "      <th>fire_radiance</th>\n",
       "      <th>Longitude</th>\n",
       "      <th>Latitude</th>\n",
       "    </tr>\n",
       "  </thead>\n",
       "  <tbody>\n",
       "    <tr>\n",
       "      <th>612846</th>\n",
       "      <td>1.238586</td>\n",
       "      <td>-119.583046</td>\n",
       "      <td>44.871090</td>\n",
       "    </tr>\n",
       "    <tr>\n",
       "      <th>616046</th>\n",
       "      <td>1.562117</td>\n",
       "      <td>-119.591080</td>\n",
       "      <td>44.866467</td>\n",
       "    </tr>\n",
       "    <tr>\n",
       "      <th>616047</th>\n",
       "      <td>1.004026</td>\n",
       "      <td>-119.581451</td>\n",
       "      <td>44.864914</td>\n",
       "    </tr>\n",
       "    <tr>\n",
       "      <th>882414</th>\n",
       "      <td>1.036379</td>\n",
       "      <td>-111.593269</td>\n",
       "      <td>42.685574</td>\n",
       "    </tr>\n",
       "    <tr>\n",
       "      <th>891440</th>\n",
       "      <td>1.141526</td>\n",
       "      <td>-117.921265</td>\n",
       "      <td>43.992130</td>\n",
       "    </tr>\n",
       "  </tbody>\n",
       "</table>\n",
       "</div>"
      ],
      "text/plain": [
       "        fire_radiance   Longitude   Latitude\n",
       "612846       1.238586 -119.583046  44.871090\n",
       "616046       1.562117 -119.591080  44.866467\n",
       "616047       1.004026 -119.581451  44.864914\n",
       "882414       1.036379 -111.593269  42.685574\n",
       "891440       1.141526 -117.921265  43.992130"
      ]
     },
     "execution_count": 26,
     "metadata": {},
     "output_type": "execute_result"
    }
   ],
   "source": [
    "# Filtering the entries which have more than 0.85 Fire Radiance.\n",
    "fire_radiance_geolocation_gt0_85_df = fire_radiance_geolocation_df.loc[fire_radiance_geolocation_df['fire_radiance'] >= 0.85]\n",
    "fire_radiance_geolocation_gt0_85_df.head()"
   ]
  },
  {
   "cell_type": "code",
   "execution_count": 27,
   "metadata": {
    "pycharm": {
     "name": "#%%\n"
    }
   },
   "outputs": [
    {
     "name": "stderr",
     "output_type": "stream",
     "text": [
      "C:\\TheFourthReich\\anaconda3\\envs\\gisenv\\lib\\site-packages\\ipykernel_launcher.py:1: SettingWithCopyWarning: \n",
      "A value is trying to be set on a copy of a slice from a DataFrame.\n",
      "Try using .loc[row_indexer,col_indexer] = value instead\n",
      "\n",
      "See the caveats in the documentation: https://pandas.pydata.org/pandas-docs/stable/user_guide/indexing.html#returning-a-view-versus-a-copy\n",
      "  \"\"\"Entry point for launching an IPython kernel.\n"
     ]
    },
    {
     "data": {
      "text/html": [
       "<div>\n",
       "<style scoped>\n",
       "    .dataframe tbody tr th:only-of-type {\n",
       "        vertical-align: middle;\n",
       "    }\n",
       "\n",
       "    .dataframe tbody tr th {\n",
       "        vertical-align: top;\n",
       "    }\n",
       "\n",
       "    .dataframe thead th {\n",
       "        text-align: right;\n",
       "    }\n",
       "</style>\n",
       "<table border=\"1\" class=\"dataframe\">\n",
       "  <thead>\n",
       "    <tr style=\"text-align: right;\">\n",
       "      <th></th>\n",
       "      <th>fire_radiance</th>\n",
       "      <th>Longitude</th>\n",
       "      <th>Latitude</th>\n",
       "      <th>geometry</th>\n",
       "    </tr>\n",
       "  </thead>\n",
       "  <tbody>\n",
       "    <tr>\n",
       "      <th>612846</th>\n",
       "      <td>1.238586</td>\n",
       "      <td>-119.583046</td>\n",
       "      <td>44.871090</td>\n",
       "      <td>POINT (-119.5830459594727 44.87108993530273)</td>\n",
       "    </tr>\n",
       "    <tr>\n",
       "      <th>616046</th>\n",
       "      <td>1.562117</td>\n",
       "      <td>-119.591080</td>\n",
       "      <td>44.866467</td>\n",
       "      <td>POINT (-119.5910797119141 44.8664665222168)</td>\n",
       "    </tr>\n",
       "    <tr>\n",
       "      <th>616047</th>\n",
       "      <td>1.004026</td>\n",
       "      <td>-119.581451</td>\n",
       "      <td>44.864914</td>\n",
       "      <td>POINT (-119.5814514160156 44.86491394042969)</td>\n",
       "    </tr>\n",
       "    <tr>\n",
       "      <th>882414</th>\n",
       "      <td>1.036379</td>\n",
       "      <td>-111.593269</td>\n",
       "      <td>42.685574</td>\n",
       "      <td>POINT (-111.5932693481445 42.68557357788086)</td>\n",
       "    </tr>\n",
       "    <tr>\n",
       "      <th>891440</th>\n",
       "      <td>1.141526</td>\n",
       "      <td>-117.921265</td>\n",
       "      <td>43.992130</td>\n",
       "      <td>POINT (-117.9212646484375 43.99213027954102)</td>\n",
       "    </tr>\n",
       "  </tbody>\n",
       "</table>\n",
       "</div>"
      ],
      "text/plain": [
       "        fire_radiance   Longitude   Latitude  \\\n",
       "612846       1.238586 -119.583046  44.871090   \n",
       "616046       1.562117 -119.591080  44.866467   \n",
       "616047       1.004026 -119.581451  44.864914   \n",
       "882414       1.036379 -111.593269  42.685574   \n",
       "891440       1.141526 -117.921265  43.992130   \n",
       "\n",
       "                                            geometry  \n",
       "612846  POINT (-119.5830459594727 44.87108993530273)  \n",
       "616046   POINT (-119.5910797119141 44.8664665222168)  \n",
       "616047  POINT (-119.5814514160156 44.86491394042969)  \n",
       "882414  POINT (-111.5932693481445 42.68557357788086)  \n",
       "891440  POINT (-117.9212646484375 43.99213027954102)  "
      ]
     },
     "execution_count": 27,
     "metadata": {},
     "output_type": "execute_result"
    }
   ],
   "source": [
    "# Adding a geometry column by converting the longitude and latitude for creating the geodataframe.\n",
    "fire_radiance_geolocation_gt0_85_df['geometry'] = [Point(x,y) for x,y in zip(fire_radiance_geolocation_gt0_85_df['Longitude'], fire_radiance_geolocation_gt0_85_df['Latitude'])]\n",
    "fire_radiance_geolocation_gt0_85_df.head()"
   ]
  },
  {
   "cell_type": "code",
   "execution_count": 28,
   "metadata": {
    "pycharm": {
     "name": "#%%\n"
    }
   },
   "outputs": [
    {
     "data": {
      "text/html": [
       "<div>\n",
       "<style scoped>\n",
       "    .dataframe tbody tr th:only-of-type {\n",
       "        vertical-align: middle;\n",
       "    }\n",
       "\n",
       "    .dataframe tbody tr th {\n",
       "        vertical-align: top;\n",
       "    }\n",
       "\n",
       "    .dataframe thead th {\n",
       "        text-align: right;\n",
       "    }\n",
       "</style>\n",
       "<table border=\"1\" class=\"dataframe\">\n",
       "  <thead>\n",
       "    <tr style=\"text-align: right;\">\n",
       "      <th></th>\n",
       "      <th>fire_radiance</th>\n",
       "      <th>Longitude</th>\n",
       "      <th>Latitude</th>\n",
       "      <th>geometry</th>\n",
       "    </tr>\n",
       "  </thead>\n",
       "  <tbody>\n",
       "    <tr>\n",
       "      <th>612846</th>\n",
       "      <td>1.238586</td>\n",
       "      <td>-119.583046</td>\n",
       "      <td>44.871090</td>\n",
       "      <td>POINT (-119.58305 44.87109)</td>\n",
       "    </tr>\n",
       "    <tr>\n",
       "      <th>616046</th>\n",
       "      <td>1.562117</td>\n",
       "      <td>-119.591080</td>\n",
       "      <td>44.866467</td>\n",
       "      <td>POINT (-119.59108 44.86647)</td>\n",
       "    </tr>\n",
       "    <tr>\n",
       "      <th>616047</th>\n",
       "      <td>1.004026</td>\n",
       "      <td>-119.581451</td>\n",
       "      <td>44.864914</td>\n",
       "      <td>POINT (-119.58145 44.86491)</td>\n",
       "    </tr>\n",
       "    <tr>\n",
       "      <th>882414</th>\n",
       "      <td>1.036379</td>\n",
       "      <td>-111.593269</td>\n",
       "      <td>42.685574</td>\n",
       "      <td>POINT (-111.59327 42.68557)</td>\n",
       "    </tr>\n",
       "    <tr>\n",
       "      <th>891440</th>\n",
       "      <td>1.141526</td>\n",
       "      <td>-117.921265</td>\n",
       "      <td>43.992130</td>\n",
       "      <td>POINT (-117.92126 43.99213)</td>\n",
       "    </tr>\n",
       "  </tbody>\n",
       "</table>\n",
       "</div>"
      ],
      "text/plain": [
       "        fire_radiance   Longitude   Latitude                     geometry\n",
       "612846       1.238586 -119.583046  44.871090  POINT (-119.58305 44.87109)\n",
       "616046       1.562117 -119.591080  44.866467  POINT (-119.59108 44.86647)\n",
       "616047       1.004026 -119.581451  44.864914  POINT (-119.58145 44.86491)\n",
       "882414       1.036379 -111.593269  42.685574  POINT (-111.59327 42.68557)\n",
       "891440       1.141526 -117.921265  43.992130  POINT (-117.92126 43.99213)"
      ]
     },
     "execution_count": 28,
     "metadata": {},
     "output_type": "execute_result"
    }
   ],
   "source": [
    "# Creating a geodataframe.\n",
    "fire_radiance_geolocation_gdf = gpd.GeoDataFrame(data=fire_radiance_geolocation_gt0_85_df, geometry=fire_radiance_geolocation_gt0_85_df['geometry'])\n",
    "fire_radiance_geolocation_gdf.head()"
   ]
  },
  {
   "cell_type": "code",
   "execution_count": 29,
   "metadata": {
    "pycharm": {
     "name": "#%%\n"
    }
   },
   "outputs": [
    {
     "data": {
      "text/html": [
       "<div>\n",
       "<style scoped>\n",
       "    .dataframe tbody tr th:only-of-type {\n",
       "        vertical-align: middle;\n",
       "    }\n",
       "\n",
       "    .dataframe tbody tr th {\n",
       "        vertical-align: top;\n",
       "    }\n",
       "\n",
       "    .dataframe thead th {\n",
       "        text-align: right;\n",
       "    }\n",
       "</style>\n",
       "<table border=\"1\" class=\"dataframe\">\n",
       "  <thead>\n",
       "    <tr style=\"text-align: right;\">\n",
       "      <th></th>\n",
       "      <th>fire_radiance</th>\n",
       "      <th>Longitude</th>\n",
       "      <th>Latitude</th>\n",
       "      <th>geometry</th>\n",
       "    </tr>\n",
       "  </thead>\n",
       "  <tbody>\n",
       "    <tr>\n",
       "      <th>612846</th>\n",
       "      <td>1.238586</td>\n",
       "      <td>-119.583046</td>\n",
       "      <td>44.871090</td>\n",
       "      <td>POINT (-119.58305 44.87109)</td>\n",
       "    </tr>\n",
       "    <tr>\n",
       "      <th>616046</th>\n",
       "      <td>1.562117</td>\n",
       "      <td>-119.591080</td>\n",
       "      <td>44.866467</td>\n",
       "      <td>POINT (-119.59108 44.86647)</td>\n",
       "    </tr>\n",
       "    <tr>\n",
       "      <th>616047</th>\n",
       "      <td>1.004026</td>\n",
       "      <td>-119.581451</td>\n",
       "      <td>44.864914</td>\n",
       "      <td>POINT (-119.58145 44.86491)</td>\n",
       "    </tr>\n",
       "    <tr>\n",
       "      <th>882414</th>\n",
       "      <td>1.036379</td>\n",
       "      <td>-111.593269</td>\n",
       "      <td>42.685574</td>\n",
       "      <td>POINT (-111.59327 42.68557)</td>\n",
       "    </tr>\n",
       "    <tr>\n",
       "      <th>891440</th>\n",
       "      <td>1.141526</td>\n",
       "      <td>-117.921265</td>\n",
       "      <td>43.992130</td>\n",
       "      <td>POINT (-117.92126 43.99213)</td>\n",
       "    </tr>\n",
       "    <tr>\n",
       "      <th>...</th>\n",
       "      <td>...</td>\n",
       "      <td>...</td>\n",
       "      <td>...</td>\n",
       "      <td>...</td>\n",
       "    </tr>\n",
       "    <tr>\n",
       "      <th>6066441</th>\n",
       "      <td>0.858437</td>\n",
       "      <td>-115.831406</td>\n",
       "      <td>32.429142</td>\n",
       "      <td>POINT (-115.83141 32.42914)</td>\n",
       "    </tr>\n",
       "    <tr>\n",
       "      <th>6114444</th>\n",
       "      <td>0.850349</td>\n",
       "      <td>-115.837440</td>\n",
       "      <td>32.329426</td>\n",
       "      <td>POINT (-115.83744 32.32943)</td>\n",
       "    </tr>\n",
       "    <tr>\n",
       "      <th>6152845</th>\n",
       "      <td>0.850349</td>\n",
       "      <td>-115.855011</td>\n",
       "      <td>32.261822</td>\n",
       "      <td>POINT (-115.85501 32.26182)</td>\n",
       "    </tr>\n",
       "    <tr>\n",
       "      <th>6152846</th>\n",
       "      <td>0.850349</td>\n",
       "      <td>-115.843140</td>\n",
       "      <td>32.259171</td>\n",
       "      <td>POINT (-115.84314 32.25917)</td>\n",
       "    </tr>\n",
       "    <tr>\n",
       "      <th>6152847</th>\n",
       "      <td>0.850349</td>\n",
       "      <td>-115.831268</td>\n",
       "      <td>32.256527</td>\n",
       "      <td>POINT (-115.83127 32.25653)</td>\n",
       "    </tr>\n",
       "  </tbody>\n",
       "</table>\n",
       "<p>3501 rows × 4 columns</p>\n",
       "</div>"
      ],
      "text/plain": [
       "         fire_radiance   Longitude   Latitude                     geometry\n",
       "612846        1.238586 -119.583046  44.871090  POINT (-119.58305 44.87109)\n",
       "616046        1.562117 -119.591080  44.866467  POINT (-119.59108 44.86647)\n",
       "616047        1.004026 -119.581451  44.864914  POINT (-119.58145 44.86491)\n",
       "882414        1.036379 -111.593269  42.685574  POINT (-111.59327 42.68557)\n",
       "891440        1.141526 -117.921265  43.992130  POINT (-117.92126 43.99213)\n",
       "...                ...         ...        ...                          ...\n",
       "6066441       0.858437 -115.831406  32.429142  POINT (-115.83141 32.42914)\n",
       "6114444       0.850349 -115.837440  32.329426  POINT (-115.83744 32.32943)\n",
       "6152845       0.850349 -115.855011  32.261822  POINT (-115.85501 32.26182)\n",
       "6152846       0.850349 -115.843140  32.259171  POINT (-115.84314 32.25917)\n",
       "6152847       0.850349 -115.831268  32.256527  POINT (-115.83127 32.25653)\n",
       "\n",
       "[3501 rows x 4 columns]"
      ]
     },
     "execution_count": 29,
     "metadata": {},
     "output_type": "execute_result"
    }
   ],
   "source": [
    "# Setting an Coordinate reference system of EPSG:4326 to the geodataframe.\n",
    "fire_radiance_geolocation_gdf.set_crs(epsg=4326, inplace=True)"
   ]
  },
  {
   "cell_type": "markdown",
   "metadata": {
    "pycharm": {
     "name": "#%% md\n"
    }
   },
   "source": [
    "### Plotting the Output in different formats."
   ]
  },
  {
   "cell_type": "markdown",
   "metadata": {},
   "source": [
    "##### Plotting the image on the KeplerGL package."
   ]
  },
  {
   "cell_type": "code",
   "execution_count": 30,
   "metadata": {
    "pycharm": {
     "name": "#%%\n"
    }
   },
   "outputs": [
    {
     "name": "stdout",
     "output_type": "stream",
     "text": [
      "User Guide: https://docs.kepler.gl/docs/keplergl-jupyter\n",
      "Map saved to output\\hotspots_locations.html!\n"
     ]
    }
   ],
   "source": [
    "fire_radiance_map = KeplerGl(height=600, width=800)\n",
    "fire_radiance_map.add_data(data=fire_radiance_geolocation_gdf.copy(), name = 'area_of_interest')\n",
    "fire_radiance_filename = 'hotspots_locations.html'\n",
    "fire_radiance_filepath = os.path.join(output_folder, fire_radiance_filename)\n",
    "fire_radiance_map.save_to_html(file_name=fire_radiance_filepath)"
   ]
  },
  {
   "cell_type": "markdown",
   "metadata": {
    "pycharm": {
     "name": "#%% md\n"
    }
   },
   "source": [
    "![img.png](output/hotspot_points_keplergl.png)\n",
    "\n",
    "##### Hotspots Points"
   ]
  },
  {
   "cell_type": "markdown",
   "metadata": {
    "pycharm": {
     "name": "#%% md\n"
    }
   },
   "source": [
    "![img.png](output/hotspot_heatmap_radiancebased.png)\n",
    "\n",
    "##### Hotspots Heatmap based on Radiance Value"
   ]
  },
  {
   "cell_type": "markdown",
   "metadata": {
    "pycharm": {
     "name": "#%% md\n"
    }
   },
   "source": [
    "![img.png](output/hotspot_heatmap_densitybased.png)\n",
    "\n",
    "##### Hotspots Heatmap based on Density of the Hotspot Points."
   ]
  },
  {
   "cell_type": "markdown",
   "metadata": {},
   "source": [
    "##### Exporting the hotspot locations into geojson format."
   ]
  },
  {
   "cell_type": "code",
   "execution_count": 31,
   "metadata": {
    "pycharm": {
     "name": "#%%\n"
    }
   },
   "outputs": [],
   "source": [
    "geojson_filename = 'hotspots_locations.geojson'\n",
    "geojson_filepath = os.path.join(output_folder, geojson_filename)\n",
    "fire_radiance_geolocation_gdf.to_file(geojson_filepath, driver='GeoJSON')"
   ]
  },
  {
   "cell_type": "markdown",
   "metadata": {
    "pycharm": {
     "name": "#%% md\n"
    }
   },
   "source": [
    "##### Exporting the hotspot locations into the csv format."
   ]
  },
  {
   "cell_type": "code",
   "execution_count": 32,
   "metadata": {
    "pycharm": {
     "name": "#%%\n"
    }
   },
   "outputs": [],
   "source": [
    "\n",
    "csv_filename = 'hotspots_locations.csv'\n",
    "csv_filepath = os.path.join(output_folder, csv_filename)\n",
    "fire_radiance_geolocation_gdf.to_csv(csv_filepath, index=None)"
   ]
  },
  {
   "cell_type": "code",
   "execution_count": null,
   "metadata": {
    "pycharm": {
     "name": "#%%\n"
    }
   },
   "outputs": [],
   "source": []
  }
 ],
 "metadata": {
  "kernelspec": {
   "display_name": "PyCharm (Aman_GIS_OSMnx_Berlin)",
   "language": "python",
   "name": "pycharm-16c9b7e3"
  },
  "language_info": {
   "codemirror_mode": {
    "name": "ipython",
    "version": 3
   },
   "file_extension": ".py",
   "mimetype": "text/x-python",
   "name": "python",
   "nbconvert_exporter": "python",
   "pygments_lexer": "ipython3",
   "version": "3.7.10"
  }
 },
 "nbformat": 4,
 "nbformat_minor": 1
}
