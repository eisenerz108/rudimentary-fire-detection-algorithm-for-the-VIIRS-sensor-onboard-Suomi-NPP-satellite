{
 "cells": [
  {
   "cell_type": "code",
   "execution_count": 3,
   "metadata": {
    "collapsed": true
   },
   "outputs": [],
   "source": [
    "import netCDF4 as nc\n",
    "import os\n",
    "\n",
    "import numpy as np\n",
    "from matplotlib import pyplot as plt\n",
    "from mpl_toolkits.basemap import Basemap\n",
    "import numpy as np\n",
    "import cv2 as cv\n",
    "import geopandas as gpd\n",
    "import pandas as pd\n",
    "from shapely.geometry import Point\n",
    "from keplergl import KeplerGl"
   ]
  },
  {
   "cell_type": "code",
   "execution_count": 4,
   "outputs": [],
   "source": [
    "radiance_data = nc.Dataset(r'input_data\\VNP02MOD_NRT.A2020233.1000.001.nc')\n",
    "geolocation_data = nc.Dataset(r'input_data\\VNP03MOD_NRT.A2020233.1000.001.nc')"
   ],
   "metadata": {
    "collapsed": false,
    "pycharm": {
     "name": "#%%\n"
    }
   }
  },
  {
   "cell_type": "code",
   "execution_count": 5,
   "outputs": [
    {
     "data": {
      "text/plain": "<class 'netCDF4._netCDF4.Dataset'>\nroot group (NETCDF4 data model, file format HDF5):\n    title: VIIRS M-band Reflected Solar Band and Thermal Emissive Band Data\n    platform: Suomi-NPP\n    instrument: VIIRS\n    product_name: VNP02MOD_NRT.A2020233.1000.001.2020233122624.nc\n    LocalGranuleID: VNP02MOD_NRT.A2020233.1000.001.2020233122624.nc\n    processing_version: v2.0.3\n    Conventions: CF-1.6\n    institution: NASA Goddard Space Flight Center, VIIRS L1 Processing Group\n    license: http://science.nasa.gov/earth-science/earth-science-data/data-information-policy/\n    naming_authority: gov.nasa.gsfc.VIIRSland\n    date_created: 2020-08-20T08:26:26Z\n    ProductionTime: 2020-08-20T08:26:26Z\n    keywords_vocabulary: NASA Global Change Master Directory (GCMD) Science Keywords\n    stdname_vocabulary: NetCDF Climate and Forecast (CF) Metadata Convention\n    creator_name: VIIRS L1 Processing Group\n    creator_email: modis-ops@lists.nasa.gov\n    creator_url: http://ladsweb.nascom.nasa.gov\n    project: VIIRS L1 Project\n    publisher_name: LAADS\n    publisher_url: http://ladsweb.nascom.nasa.gov\n    publisher_email: modis-ops@lists.nasa.gov\n    processing_level: L1B\n    cdm_data_type: swath\n    orbit_number: 45670\n    history: LSIPS_calibrate_viirs.exe PGE502.1.AS5001.NPP_OPS.2020-233T10:00.NA.2020-233T12:26:23.52053051.pcf diagnostics\n    source: VNP01_NRT.A2020233.1000.001.2020233121538.nc,VNP01_NRT.A2020233.0954.001.2020233121526.nc,VNP01_NRT.A2020233.1006.001.2020233121359.nc,VIIRS_NPP_CAL_STATIC_LUT_v2.0.0.41_20200717_vcst.nc,VIIRS_NPP_CAL_RSB_DYNAMIC_LUT_20120103_20220101_v2.0.0.41_20200717_vcst.nc,VIIRS_NPP_CAL_DNB_DYNAMIC_LUT_20120121_20200926_v2.0.0.41_20200717_vcst.nc,VIIRS_NPP_CAL_STRAYLIGHT_DYNAMIC_LUT_20120123_20201214_v2.0.0.41_20200717_vcst.nc,VIIRS_NPP_CMN_LUT_v2.0.0.41_20200717_vcst.nc,VIIRS_NPP_GEO_LUT_20130425152500_vcst.nc,off_USNO-PolarWander-UT1-ANC_Ser7_USNO_000f_20200814_202008140000Z_20200814000101Z_ee20200821120000Z_np.ascii\n    time_coverage_start: 2020-08-20T10:00:00.000Z\n    time_coverage_end: 2020-08-20T10:06:00.000Z\n    PGE_StartTime: 2020-08-20 10:00:00.000\n    PGE_EndTime: 2020-08-20 10:06:00.000\n    StartTime: 2020-08-20 10:00:00.000\n    EndTime: 2020-08-20 10:06:00.000\n    PGE_Name: PGE502\n    VersionId: 001\n    startDirection: Descending\n    endDirection: Descending\n    DayNightFlag: Night\n    format_version: 2\n    instrument_number: 2\n    number_of_filled_scans: 202\n    identifier_product_doi: 10.5067/VIIRS/VNP02MOD_NRT.001\n    identifier_product_doi_authority: http://dx.doi.org\n    GRingPointLatitude: [22.1319 26.7342 47.5338 41.6792]\n    GRingPointLongitude: [-111.462 -141.325 -139.746 -101.434]\n    GRingPointSequenceNo: [1 2 3 4]\n    SouthBoundingCoordinate: 22.131943\n    NorthBoundingCoordinate: 47.559135\n    EastBoundingCoordinate: -101.43392\n    WestBoundingCoordinate: -141.32498\n    RangeEndingTime: 10:06:00.000000\n    SatelliteInstrument: NPP_OPS\n    InputPointer: VNP01_NRT.A2020233.1000.001.2020233121538.nc,VNP01_NRT.A2020233.0954.001.2020233121526.nc,VNP01_NRT.A2020233.1006.001.2020233121359.nc,off_USNO-PolarWander-UT1-ANC_Ser7_USNO_000f_20200814_202008140000Z_20200814000101Z_ee20200821120000Z_np.ascii,VIIRS_NPP_CAL_STATIC_LUT_v2.0.0.41_20200717_vcst.nc,VIIRS_NPP_CMN_LUT_v2.0.0.41_20200717_vcst.nc,VIIRS_NPP_GEO_LUT_20130425152500_vcst.nc,VIIRS_NPP_CAL_RSB_DYNAMIC_LUT_20120103_20220101_v2.0.0.41_20200717_vcst.nc,VIIRS_NPP_CAL_DNB_DYNAMIC_LUT_20120121_20200926_v2.0.0.41_20200717_vcst.nc,VIIRS_NPP_CAL_STRAYLIGHT_DYNAMIC_LUT_20120123_20201214_v2.0.0.41_20200717_vcst.nc\n    AlgorithmType: SCI\n    RangeBeginningDate: 2020-08-20\n    ProcessingCenter: MODAPS-NASA\n    AlgorithmVersion: NPP_PR02 v2.0.3\n    ProcessingEnvironment: Linux nrt3min116 3.10.0-1062.12.1.el7.x86_64 #1 SMP Tue Feb 4 23:02:59 UTC 2020 x86_64 x86_64 x86_64 GNU/Linux\n    RangeEndingDate: 2020-08-20\n    RangeBeginningTime: 10:00:00.000000\n    ShortName: VNP02MOD_NRT\n    LongName: VIIRS/NPP Moderate Resolution 6-Min L1B Swath 750m NRT\n    dimensions(sizes): number_of_scans(202), number_of_lines(3232), number_of_pixels(3200), number_of_LUT_values(65536)\n    variables(dimensions): \n    groups: scan_line_attributes, observation_data, diagnostics"
     },
     "execution_count": 5,
     "metadata": {},
     "output_type": "execute_result"
    }
   ],
   "source": [
    "radiance_data"
   ],
   "metadata": {
    "collapsed": false,
    "pycharm": {
     "name": "#%%\n"
    }
   }
  },
  {
   "cell_type": "code",
   "execution_count": 6,
   "outputs": [
    {
     "data": {
      "text/plain": "{'scan_line_attributes': <class 'netCDF4._netCDF4.Group'>\n group /scan_line_attributes:\n     dimensions(sizes): \n     variables(dimensions): float64 scan_start_time(number_of_scans), float64 scan_end_time(number_of_scans), float64 ev_mid_time(number_of_scans), uint8 scan_state_flags(number_of_scans), uint8 scan_quality_flags(number_of_scans)\n     groups: ,\n 'observation_data': <class 'netCDF4._netCDF4.Group'>\n group /observation_data:\n     dimensions(sizes): \n     variables(dimensions): uint16 M07(number_of_lines, number_of_pixels), uint16 M07_quality_flags(number_of_lines, number_of_pixels), int8 M07_uncert_index(number_of_lines, number_of_pixels), uint16 M08(number_of_lines, number_of_pixels), uint16 M08_quality_flags(number_of_lines, number_of_pixels), int8 M08_uncert_index(number_of_lines, number_of_pixels), uint16 M10(number_of_lines, number_of_pixels), uint16 M10_quality_flags(number_of_lines, number_of_pixels), int8 M10_uncert_index(number_of_lines, number_of_pixels), uint16 M11(number_of_lines, number_of_pixels), uint16 M11_quality_flags(number_of_lines, number_of_pixels), int8 M11_uncert_index(number_of_lines, number_of_pixels), uint16 M12(number_of_lines, number_of_pixels), uint16 M12_quality_flags(number_of_lines, number_of_pixels), float32 M12_brightness_temperature_lut(number_of_LUT_values), int8 M12_uncert_index(number_of_lines, number_of_pixels), uint16 M13(number_of_lines, number_of_pixels), uint16 M13_quality_flags(number_of_lines, number_of_pixels), float32 M13_brightness_temperature_lut(number_of_LUT_values), int8 M13_uncert_index(number_of_lines, number_of_pixels), uint16 M14(number_of_lines, number_of_pixels), uint16 M14_quality_flags(number_of_lines, number_of_pixels), float32 M14_brightness_temperature_lut(number_of_LUT_values), int8 M14_uncert_index(number_of_lines, number_of_pixels), uint16 M15(number_of_lines, number_of_pixels), uint16 M15_quality_flags(number_of_lines, number_of_pixels), float32 M15_brightness_temperature_lut(number_of_LUT_values), int8 M15_uncert_index(number_of_lines, number_of_pixels), uint16 M16(number_of_lines, number_of_pixels), uint16 M16_quality_flags(number_of_lines, number_of_pixels), float32 M16_brightness_temperature_lut(number_of_LUT_values), int8 M16_uncert_index(number_of_lines, number_of_pixels)\n     groups: ,\n 'diagnostics': <class 'netCDF4._netCDF4.Group'>\n group /diagnostics:\n     dimensions(sizes): number_of_scans_in_granule(203), number_of_scans_in_3_granules(609), number_of_sv_time_series(4), number_of_teb_f_time_series(2), number_of_m_bands(16), number_of_sv_sg_bands(9), number_of_sv_dg_bands(7), number_of_teb_sg_bands(4), number_of_teb_dg_bands(1), number_of_mband_detectors(16), number_of_gain_states(2)\n     variables(dimensions): float32 SV_SG(number_of_sv_sg_bands, number_of_sv_time_series, number_of_scans_in_3_granules, number_of_mband_detectors), float32 SV_DG(number_of_sv_dg_bands, number_of_sv_time_series, number_of_scans_in_3_granules, number_of_mband_detectors, number_of_gain_states), float32 TEB_F_SG(number_of_teb_sg_bands, number_of_teb_f_time_series, number_of_scans_in_3_granules, number_of_mband_detectors), float32 TEB_F_DG(number_of_teb_f_time_series, number_of_scans_in_3_granules, number_of_mband_detectors, number_of_gain_states), float32 RAW_SV(number_of_m_bands, number_of_scans_in_granule, number_of_mband_detectors), float32 STD_SV(number_of_m_bands, number_of_scans_in_granule, number_of_mband_detectors)\n     groups: }"
     },
     "execution_count": 6,
     "metadata": {},
     "output_type": "execute_result"
    }
   ],
   "source": [
    "radiance_data.groups"
   ],
   "metadata": {
    "collapsed": false,
    "pycharm": {
     "name": "#%%\n"
    }
   }
  },
  {
   "cell_type": "code",
   "execution_count": 7,
   "outputs": [],
   "source": [
    "m13_variable = radiance_data['/observation_data/M13']"
   ],
   "metadata": {
    "collapsed": false,
    "pycharm": {
     "name": "#%%\n"
    }
   }
  },
  {
   "cell_type": "code",
   "execution_count": 8,
   "outputs": [
    {
     "data": {
      "text/plain": "<class 'netCDF4._netCDF4.Variable'>\nuint16 M13(number_of_lines, number_of_pixels)\n    long_name: M-band 13 earth view radiance\n    units: Watts/meter^2/steradian/micrometer\n    _FillValue: 65535\n    valid_min: 0\n    valid_max: 65527\n    scale_factor: 0.008088269\n    add_offset: 0.00108056\n    flag_values: [65532 65533 65534]\n    flag_meanings: Missing_EV Bowtie_Deleted Cal_Fail\npath = /observation_data\nunlimited dimensions: \ncurrent shape = (3232, 3200)\nfilling on"
     },
     "execution_count": 8,
     "metadata": {},
     "output_type": "execute_result"
    }
   ],
   "source": [
    "m13_variable"
   ],
   "metadata": {
    "collapsed": false,
    "pycharm": {
     "name": "#%%\n"
    }
   }
  },
  {
   "cell_type": "code",
   "execution_count": 9,
   "outputs": [
    {
     "name": "stdout",
     "output_type": "stream",
     "text": [
      "(3232, 3200)\n",
      "('number_of_lines', 'number_of_pixels')\n"
     ]
    }
   ],
   "source": [
    "print(m13_variable.shape)\n",
    "print(m13_variable.dimensions)"
   ],
   "metadata": {
    "collapsed": false,
    "pycharm": {
     "name": "#%%\n"
    }
   }
  },
  {
   "cell_type": "code",
   "execution_count": 10,
   "outputs": [],
   "source": [
    "m13_array = m13_variable[:]\n",
    "m13_units = m13_variable.units"
   ],
   "metadata": {
    "collapsed": false,
    "pycharm": {
     "name": "#%%\n"
    }
   }
  },
  {
   "cell_type": "code",
   "execution_count": 11,
   "outputs": [
    {
     "data": {
      "text/plain": "{'scan_line_attributes': <class 'netCDF4._netCDF4.Group'>\n group /scan_line_attributes:\n     dimensions(sizes): \n     variables(dimensions): float64 scan_start_time(number_of_scans), float64 scan_end_time(number_of_scans), float64 ev_mid_time(number_of_scans), uint8 HAM_side(number_of_scans), uint8 sensor_mode(number_of_scans), int16 scan_quality(number_of_scans)\n     groups: ,\n 'geolocation_data': <class 'netCDF4._netCDF4.Group'>\n group /geolocation_data:\n     dimensions(sizes): \n     variables(dimensions): float32 latitude(number_of_lines, number_of_pixels), float32 longitude(number_of_lines, number_of_pixels), int16 height(number_of_lines, number_of_pixels), int16 range(number_of_lines, number_of_pixels), int16 sensor_azimuth(number_of_lines, number_of_pixels), int16 sensor_zenith(number_of_lines, number_of_pixels), int16 solar_azimuth(number_of_lines, number_of_pixels), int16 solar_zenith(number_of_lines, number_of_pixels), uint8 land_water_mask(number_of_lines, number_of_pixels), uint8 quality_flag(number_of_lines, number_of_pixels)\n     groups: ,\n 'navigation_data': <class 'netCDF4._netCDF4.Group'>\n group /navigation_data:\n     dimensions(sizes): \n     variables(dimensions): float32 att_quat_ev(number_of_scans, quaternion_elements), float32 att_ang_start(number_of_scans, vector_elements), float32 att_ang_end(number_of_scans, vector_elements), float32 att_ang_mid(number_of_scans, vector_elements), float32 orb_pos_ev_start(number_of_scans, vector_elements), float32 orb_pos_ev_end(number_of_scans, vector_elements), float32 orb_pos_ev_mid(number_of_scans, vector_elements), float32 orb_vel_ev_start(number_of_scans, vector_elements), float32 orb_vel_ev_end(number_of_scans, vector_elements), float32 orb_vel_ev_mid(number_of_scans, vector_elements), float32 solar_j2000(number_of_scans, vector_elements), float32 solar_inst(number_of_scans, vector_elements), float32 earth_sun_distance(number_of_scans), float32 lunar_j2000(number_of_scans, vector_elements), float32 lunar_inst(number_of_scans, vector_elements), float32 earth_moon_distance(number_of_scans)\n     groups: }"
     },
     "execution_count": 11,
     "metadata": {},
     "output_type": "execute_result"
    }
   ],
   "source": [
    "geolocation_data.groups"
   ],
   "metadata": {
    "collapsed": false,
    "pycharm": {
     "name": "#%%\n"
    }
   }
  },
  {
   "cell_type": "code",
   "execution_count": 12,
   "outputs": [],
   "source": [
    "latitude_variable = geolocation_data['/geolocation_data/latitude']\n",
    "longitude_variable = geolocation_data['/geolocation_data/longitude']"
   ],
   "metadata": {
    "collapsed": false,
    "pycharm": {
     "name": "#%%\n"
    }
   }
  },
  {
   "cell_type": "code",
   "execution_count": 13,
   "outputs": [
    {
     "name": "stdout",
     "output_type": "stream",
     "text": [
      "(3232, 3200)\n",
      "('number_of_lines', 'number_of_pixels')\n",
      "(3232, 3200)\n",
      "('number_of_lines', 'number_of_pixels')\n"
     ]
    }
   ],
   "source": [
    "print(latitude_variable.shape)\n",
    "print(latitude_variable.dimensions)\n",
    "print(longitude_variable.shape)\n",
    "print(longitude_variable.dimensions)"
   ],
   "metadata": {
    "collapsed": false,
    "pycharm": {
     "name": "#%%\n"
    }
   }
  },
  {
   "cell_type": "code",
   "execution_count": 14,
   "outputs": [],
   "source": [
    "lat_array = latitude_variable[:]\n",
    "lon_array = longitude_variable[:]"
   ],
   "metadata": {
    "collapsed": false,
    "pycharm": {
     "name": "#%%\n"
    }
   }
  },
  {
   "cell_type": "code",
   "execution_count": 15,
   "outputs": [
    {
     "data": {
      "text/plain": "<class 'netCDF4._netCDF4.Variable'>\nuint16 M13(number_of_lines, number_of_pixels)\n    long_name: M-band 13 earth view radiance\n    units: Watts/meter^2/steradian/micrometer\n    _FillValue: 65535\n    valid_min: 0\n    valid_max: 65527\n    scale_factor: 0.008088269\n    add_offset: 0.00108056\n    flag_values: [65532 65533 65534]\n    flag_meanings: Missing_EV Bowtie_Deleted Cal_Fail\npath = /observation_data\nunlimited dimensions: \ncurrent shape = (3232, 3200)\nfilling on"
     },
     "execution_count": 15,
     "metadata": {},
     "output_type": "execute_result"
    }
   ],
   "source": [
    "m13_variable"
   ],
   "metadata": {
    "collapsed": false,
    "pycharm": {
     "name": "#%%\n"
    }
   }
  },
  {
   "cell_type": "code",
   "execution_count": 16,
   "outputs": [
    {
     "data": {
      "text/plain": "<matplotlib.image.AxesImage at 0x1b7af038c48>"
     },
     "execution_count": 16,
     "metadata": {},
     "output_type": "execute_result"
    },
    {
     "data": {
      "text/plain": "<Figure size 432x288 with 1 Axes>",
      "image/png": "[encoded data removed]"
     },
     "metadata": {
      "needs_background": "light"
     },
     "output_type": "display_data"
    }
   ],
   "source": [
    "plt.imshow(lon_array)"
   ],
   "metadata": {
    "collapsed": false,
    "pycharm": {
     "name": "#%%\n"
    }
   }
  },
  {
   "cell_type": "code",
   "execution_count": 17,
   "outputs": [
    {
     "data": {
      "text/plain": "'Watts/meter^2/steradian/micrometer'"
     },
     "execution_count": 17,
     "metadata": {},
     "output_type": "execute_result"
    }
   ],
   "source": [
    "m13_units"
   ],
   "metadata": {
    "collapsed": false,
    "pycharm": {
     "name": "#%%\n"
    }
   }
  },
  {
   "cell_type": "code",
   "execution_count": 18,
   "outputs": [
    {
     "data": {
      "text/plain": "'degrees_east'"
     },
     "execution_count": 18,
     "metadata": {},
     "output_type": "execute_result"
    }
   ],
   "source": [
    "\n",
    "latitude_variable.units\n",
    "longitude_variable.units"
   ],
   "metadata": {
    "collapsed": false,
    "pycharm": {
     "name": "#%%\n"
    }
   }
  },
  {
   "cell_type": "code",
   "execution_count": 21,
   "outputs": [
    {
     "name": "stderr",
     "output_type": "stream",
     "text": [
      "C:\\TheFourthReich\\anaconda3\\envs\\gisenv\\lib\\site-packages\\matplotlib\\contour.py:1430: UserWarning: Warning: converting a masked element to nan.\n",
      "  self.zmax = float(z.max())\n",
      "C:\\TheFourthReich\\anaconda3\\envs\\gisenv\\lib\\site-packages\\matplotlib\\contour.py:1431: UserWarning: Warning: converting a masked element to nan.\n",
      "  self.zmin = float(z.min())\n"
     ]
    },
    {
     "data": {
      "text/plain": "<Figure size 432x288 with 2 Axes>",
      "image/png": "[encoded data removed]"
     },
     "metadata": {
      "needs_background": "light"
     },
     "output_type": "display_data"
    }
   ],
   "source": [
    "lon_0 = lon_array.mean()\n",
    "lat_0 = lat_array.mean()\n",
    "\n",
    "m = Basemap(width=5000000,height=3500000,\n",
    "            resolution='l',projection='stere',\\\n",
    "            lat_ts=40,lat_0=lat_0,lon_0=lon_0)\n",
    "# Plot Data\n",
    "cs = m.contourf(lon_array,lat_array,np.squeeze(m13_array))\n",
    "\n",
    "# Add Grid Lines\n",
    "m.drawparallels(np.arange(-80., 81., 10.), labels=[1,0,0,0], fontsize=10)\n",
    "m.drawmeridians(np.arange(-180., 181., 10.), labels=[0,0,0,1], fontsize=10)\n",
    "\n",
    "# Add Coastlines, States, and Country Boundaries\n",
    "m.drawcoastlines()\n",
    "m.drawstates()\n",
    "m.drawcountries()\n",
    "\n",
    "# Add Colorbar\n",
    "cbar = m.colorbar(cs, location='bottom', pad=\"10%\")\n",
    "cbar.set_label(m13_units)\n",
    "\n",
    "# Add Title\n",
    "plt.title('DJF Maximum Temperature')\n",
    "\n",
    "plt.show()"
   ],
   "metadata": {
    "collapsed": false,
    "pycharm": {
     "name": "#%%\n"
    }
   }
  },
  {
   "cell_type": "code",
   "execution_count": 19,
   "outputs": [
    {
     "data": {
      "text/plain": "masked_array(\n  data=[[--, --, --, ..., --, --, --],\n        [--, --, --, ..., --, --, --],\n        [0.07387498021125793, 0.07387498021125793, 0.07387498021125793,\n         ..., 0.12240459769964218, 0.15475767850875854,\n         0.1871107518672943],\n        ...,\n        [0.3407878875732422, 0.3407878875732422, 0.3407878875732422, ...,\n         0.0010805600322782993, 0.0010805600322782993,\n         0.009168829768896103],\n        [--, --, --, ..., --, --, --],\n        [--, --, --, ..., --, --, --]],\n  mask=[[ True,  True,  True, ...,  True,  True,  True],\n        [ True,  True,  True, ...,  True,  True,  True],\n        [False, False, False, ..., False, False, False],\n        ...,\n        [False, False, False, ..., False, False, False],\n        [ True,  True,  True, ...,  True,  True,  True],\n        [ True,  True,  True, ...,  True,  True,  True]],\n  fill_value=65535,\n  dtype=float32)"
     },
     "execution_count": 19,
     "metadata": {},
     "output_type": "execute_result"
    }
   ],
   "source": [
    "m13_array"
   ],
   "metadata": {
    "collapsed": false,
    "pycharm": {
     "name": "#%%\n"
    }
   }
  },
  {
   "cell_type": "code",
   "execution_count": 23,
   "outputs": [
    {
     "data": {
      "text/plain": "<matplotlib.image.AxesImage at 0x2168ee86808>"
     },
     "execution_count": 23,
     "metadata": {},
     "output_type": "execute_result"
    },
    {
     "data": {
      "text/plain": "<Figure size 432x288 with 1 Axes>",
      "image/png": "[encoded data removed]"
     },
     "metadata": {
      "needs_background": "light"
     },
     "output_type": "display_data"
    }
   ],
   "source": [
    "plt.imshow(m13_array, cmap='Set2')"
   ],
   "metadata": {
    "collapsed": false,
    "pycharm": {
     "name": "#%%\n"
    }
   }
  },
  {
   "cell_type": "code",
   "execution_count": 24,
   "outputs": [
    {
     "data": {
      "text/plain": "13"
     },
     "execution_count": 24,
     "metadata": {},
     "output_type": "execute_result"
    }
   ],
   "source": [
    "ret, thresh1 = cv.threshold(m13_array, 0.50,1, cv.THRESH_BINARY)\n",
    "cv.imshow('Thresh',thresh1)\n",
    "cv.waitKey(0)"
   ],
   "metadata": {
    "collapsed": false,
    "pycharm": {
     "name": "#%%\n"
    }
   }
  },
  {
   "cell_type": "code",
   "execution_count": 20,
   "outputs": [],
   "source": [
    "lon_flatten = list(lon_array.flatten())"
   ],
   "metadata": {
    "collapsed": false,
    "pycharm": {
     "name": "#%%\n"
    }
   }
  },
  {
   "cell_type": "code",
   "execution_count": 21,
   "outputs": [],
   "source": [
    "lat_flatten = list(lat_array.flatten())"
   ],
   "metadata": {
    "collapsed": false,
    "pycharm": {
     "name": "#%%\n"
    }
   }
  },
  {
   "cell_type": "code",
   "execution_count": 22,
   "outputs": [],
   "source": [
    "m13_list = list(m13_array.flatten())\n",
    "\n"
   ],
   "metadata": {
    "collapsed": false,
    "pycharm": {
     "name": "#%%\n"
    }
   }
  },
  {
   "cell_type": "code",
   "execution_count": 23,
   "outputs": [
    {
     "data": {
      "text/plain": "  Fire   Longitude   Latitude\n0   -- -139.746368  47.533764\n1   -- -139.724014  47.534237\n2   -- -139.701721  47.534702\n3   -- -139.679504  47.535152\n4   -- -139.657318  47.535599",
      "text/html": "<div>\n<style scoped>\n    .dataframe tbody tr th:only-of-type {\n        vertical-align: middle;\n    }\n\n    .dataframe tbody tr th {\n        vertical-align: top;\n    }\n\n    .dataframe thead th {\n        text-align: right;\n    }\n</style>\n<table border=\"1\" class=\"dataframe\">\n  <thead>\n    <tr style=\"text-align: right;\">\n      <th></th>\n      <th>Fire</th>\n      <th>Longitude</th>\n      <th>Latitude</th>\n    </tr>\n  </thead>\n  <tbody>\n    <tr>\n      <th>0</th>\n      <td>--</td>\n      <td>-139.746368</td>\n      <td>47.533764</td>\n    </tr>\n    <tr>\n      <th>1</th>\n      <td>--</td>\n      <td>-139.724014</td>\n      <td>47.534237</td>\n    </tr>\n    <tr>\n      <th>2</th>\n      <td>--</td>\n      <td>-139.701721</td>\n      <td>47.534702</td>\n    </tr>\n    <tr>\n      <th>3</th>\n      <td>--</td>\n      <td>-139.679504</td>\n      <td>47.535152</td>\n    </tr>\n    <tr>\n      <th>4</th>\n      <td>--</td>\n      <td>-139.657318</td>\n      <td>47.535599</td>\n    </tr>\n  </tbody>\n</table>\n</div>"
     },
     "execution_count": 23,
     "metadata": {},
     "output_type": "execute_result"
    }
   ],
   "source": [
    "fire_location_df = pd.DataFrame({'Fire' : m13_list, 'Longitude' : lon_flatten, 'Latitude' : lat_flatten})\n",
    "fire_location_df.head()"
   ],
   "metadata": {
    "collapsed": false,
    "pycharm": {
     "name": "#%%\n"
    }
   }
  },
  {
   "cell_type": "code",
   "execution_count": 24,
   "outputs": [
    {
     "data": {
      "text/plain": "-139.74637"
     },
     "execution_count": 24,
     "metadata": {},
     "output_type": "execute_result"
    }
   ],
   "source": [
    "fire_location_df.at[0,'Longitude']\n"
   ],
   "metadata": {
    "collapsed": false,
    "pycharm": {
     "name": "#%%\n"
    }
   }
  },
  {
   "cell_type": "code",
   "execution_count": 25,
   "outputs": [],
   "source": [
    "fire_location_df.loc[fire_location_df['Fire'] == '--']['Fire'] = np.nan"
   ],
   "metadata": {
    "collapsed": false,
    "pycharm": {
     "name": "#%%\n"
    }
   }
  },
  {
   "cell_type": "code",
   "execution_count": 26,
   "outputs": [
    {
     "data": {
      "text/plain": "  Fire   Longitude   Latitude\n0   -- -139.746368  47.533764\n1   -- -139.724014  47.534237\n2   -- -139.701721  47.534702\n3   -- -139.679504  47.535152\n4   -- -139.657318  47.535599",
      "text/html": "<div>\n<style scoped>\n    .dataframe tbody tr th:only-of-type {\n        vertical-align: middle;\n    }\n\n    .dataframe tbody tr th {\n        vertical-align: top;\n    }\n\n    .dataframe thead th {\n        text-align: right;\n    }\n</style>\n<table border=\"1\" class=\"dataframe\">\n  <thead>\n    <tr style=\"text-align: right;\">\n      <th></th>\n      <th>Fire</th>\n      <th>Longitude</th>\n      <th>Latitude</th>\n    </tr>\n  </thead>\n  <tbody>\n    <tr>\n      <th>0</th>\n      <td>--</td>\n      <td>-139.746368</td>\n      <td>47.533764</td>\n    </tr>\n    <tr>\n      <th>1</th>\n      <td>--</td>\n      <td>-139.724014</td>\n      <td>47.534237</td>\n    </tr>\n    <tr>\n      <th>2</th>\n      <td>--</td>\n      <td>-139.701721</td>\n      <td>47.534702</td>\n    </tr>\n    <tr>\n      <th>3</th>\n      <td>--</td>\n      <td>-139.679504</td>\n      <td>47.535152</td>\n    </tr>\n    <tr>\n      <th>4</th>\n      <td>--</td>\n      <td>-139.657318</td>\n      <td>47.535599</td>\n    </tr>\n  </tbody>\n</table>\n</div>"
     },
     "execution_count": 26,
     "metadata": {},
     "output_type": "execute_result"
    }
   ],
   "source": [
    "fire_location_df.head()"
   ],
   "metadata": {
    "collapsed": false,
    "pycharm": {
     "name": "#%%\n"
    }
   }
  },
  {
   "cell_type": "code",
   "execution_count": 27,
   "outputs": [
    {
     "data": {
      "text/plain": "10342400"
     },
     "execution_count": 27,
     "metadata": {},
     "output_type": "execute_result"
    }
   ],
   "source": [
    "len(fire_location_df)"
   ],
   "metadata": {
    "collapsed": false,
    "pycharm": {
     "name": "#%%\n"
    }
   }
  },
  {
   "cell_type": "code",
   "execution_count": 28,
   "outputs": [
    {
     "data": {
      "text/plain": "list"
     },
     "execution_count": 28,
     "metadata": {},
     "output_type": "execute_result"
    }
   ],
   "source": [
    "type(m13_list)\n"
   ],
   "metadata": {
    "collapsed": false,
    "pycharm": {
     "name": "#%%\n"
    }
   }
  },
  {
   "cell_type": "code",
   "execution_count": 29,
   "outputs": [],
   "source": [
    "import numpy.ma as ma"
   ],
   "metadata": {
    "collapsed": false,
    "pycharm": {
     "name": "#%%\n"
    }
   }
  },
  {
   "cell_type": "code",
   "execution_count": 30,
   "outputs": [],
   "source": [
    "mx = ma.masked_values(m13_array, np.nan)"
   ],
   "metadata": {
    "collapsed": false,
    "pycharm": {
     "name": "#%%\n"
    }
   }
  },
  {
   "cell_type": "code",
   "execution_count": 31,
   "outputs": [
    {
     "data": {
      "text/plain": "masked_array(\n  data=[[       nan,        nan,        nan, ...,        nan,        nan,\n                nan],\n        [       nan,        nan,        nan, ...,        nan,        nan,\n                nan],\n        [0.07387498, 0.07387498, 0.07387498, ..., 0.1224046 , 0.15475768,\n         0.18711075],\n        ...,\n        [0.3407879 , 0.3407879 , 0.3407879 , ..., 0.00108056, 0.00108056,\n         0.00916883],\n        [       nan,        nan,        nan, ...,        nan,        nan,\n                nan],\n        [       nan,        nan,        nan, ...,        nan,        nan,\n                nan]],\n  mask=False,\n  fill_value=nan,\n  dtype=float32)"
     },
     "execution_count": 31,
     "metadata": {},
     "output_type": "execute_result"
    }
   ],
   "source": [
    "mx"
   ],
   "metadata": {
    "collapsed": false,
    "pycharm": {
     "name": "#%%\n"
    }
   }
  },
  {
   "cell_type": "code",
   "execution_count": 32,
   "outputs": [],
   "source": [
    "fire_list_unmasked = list(mx.flatten())"
   ],
   "metadata": {
    "collapsed": false,
    "pycharm": {
     "name": "#%%\n"
    }
   }
  },
  {
   "cell_type": "code",
   "execution_count": 33,
   "outputs": [
    {
     "data": {
      "text/plain": "   Fire   Longitude   Latitude\n0   NaN -139.746368  47.533764\n1   NaN -139.724014  47.534237\n2   NaN -139.701721  47.534702\n3   NaN -139.679504  47.535152\n4   NaN -139.657318  47.535599",
      "text/html": "<div>\n<style scoped>\n    .dataframe tbody tr th:only-of-type {\n        vertical-align: middle;\n    }\n\n    .dataframe tbody tr th {\n        vertical-align: top;\n    }\n\n    .dataframe thead th {\n        text-align: right;\n    }\n</style>\n<table border=\"1\" class=\"dataframe\">\n  <thead>\n    <tr style=\"text-align: right;\">\n      <th></th>\n      <th>Fire</th>\n      <th>Longitude</th>\n      <th>Latitude</th>\n    </tr>\n  </thead>\n  <tbody>\n    <tr>\n      <th>0</th>\n      <td>NaN</td>\n      <td>-139.746368</td>\n      <td>47.533764</td>\n    </tr>\n    <tr>\n      <th>1</th>\n      <td>NaN</td>\n      <td>-139.724014</td>\n      <td>47.534237</td>\n    </tr>\n    <tr>\n      <th>2</th>\n      <td>NaN</td>\n      <td>-139.701721</td>\n      <td>47.534702</td>\n    </tr>\n    <tr>\n      <th>3</th>\n      <td>NaN</td>\n      <td>-139.679504</td>\n      <td>47.535152</td>\n    </tr>\n    <tr>\n      <th>4</th>\n      <td>NaN</td>\n      <td>-139.657318</td>\n      <td>47.535599</td>\n    </tr>\n  </tbody>\n</table>\n</div>"
     },
     "execution_count": 33,
     "metadata": {},
     "output_type": "execute_result"
    }
   ],
   "source": [
    "fire_location_df_v1 = pd.DataFrame({'Fire' : fire_list_unmasked, 'Longitude' : lon_flatten, 'Latitude' : lat_flatten})\n",
    "fire_location_df_v1.head()"
   ],
   "metadata": {
    "collapsed": false,
    "pycharm": {
     "name": "#%%\n"
    }
   }
  },
  {
   "cell_type": "code",
   "execution_count": 34,
   "outputs": [
    {
     "data": {
      "text/plain": "10342400"
     },
     "execution_count": 34,
     "metadata": {},
     "output_type": "execute_result"
    }
   ],
   "source": [
    "len(fire_location_df_v1)"
   ],
   "metadata": {
    "collapsed": false,
    "pycharm": {
     "name": "#%%\n"
    }
   }
  },
  {
   "cell_type": "code",
   "execution_count": 35,
   "outputs": [],
   "source": [
    "fire_location_df_v1.dropna(inplace=True)"
   ],
   "metadata": {
    "collapsed": false,
    "pycharm": {
     "name": "#%%\n"
    }
   }
  },
  {
   "cell_type": "code",
   "execution_count": 36,
   "outputs": [
    {
     "data": {
      "text/plain": "9010816"
     },
     "execution_count": 36,
     "metadata": {},
     "output_type": "execute_result"
    }
   ],
   "source": [
    "len(fire_location_df_v1)"
   ],
   "metadata": {
    "collapsed": false,
    "pycharm": {
     "name": "#%%\n"
    }
   }
  },
  {
   "cell_type": "code",
   "execution_count": 37,
   "outputs": [
    {
     "data": {
      "text/plain": "          Fire   Longitude   Latitude\n1008  0.365053 -126.349487  47.032814\n1009  0.356964 -126.334282  47.031361\n1010  0.365053 -126.319077  47.029892\n1011  0.381229 -126.303902  47.028431\n1012  0.365053 -126.288765  47.026970",
      "text/html": "<div>\n<style scoped>\n    .dataframe tbody tr th:only-of-type {\n        vertical-align: middle;\n    }\n\n    .dataframe tbody tr th {\n        vertical-align: top;\n    }\n\n    .dataframe thead th {\n        text-align: right;\n    }\n</style>\n<table border=\"1\" class=\"dataframe\">\n  <thead>\n    <tr style=\"text-align: right;\">\n      <th></th>\n      <th>Fire</th>\n      <th>Longitude</th>\n      <th>Latitude</th>\n    </tr>\n  </thead>\n  <tbody>\n    <tr>\n      <th>1008</th>\n      <td>0.365053</td>\n      <td>-126.349487</td>\n      <td>47.032814</td>\n    </tr>\n    <tr>\n      <th>1009</th>\n      <td>0.356964</td>\n      <td>-126.334282</td>\n      <td>47.031361</td>\n    </tr>\n    <tr>\n      <th>1010</th>\n      <td>0.365053</td>\n      <td>-126.319077</td>\n      <td>47.029892</td>\n    </tr>\n    <tr>\n      <th>1011</th>\n      <td>0.381229</td>\n      <td>-126.303902</td>\n      <td>47.028431</td>\n    </tr>\n    <tr>\n      <th>1012</th>\n      <td>0.365053</td>\n      <td>-126.288765</td>\n      <td>47.026970</td>\n    </tr>\n  </tbody>\n</table>\n</div>"
     },
     "execution_count": 37,
     "metadata": {},
     "output_type": "execute_result"
    }
   ],
   "source": [
    "fire_location_df_v1.head()"
   ],
   "metadata": {
    "collapsed": false,
    "pycharm": {
     "name": "#%%\n"
    }
   }
  },
  {
   "cell_type": "code",
   "execution_count": 38,
   "outputs": [
    {
     "data": {
      "text/plain": "            Fire   Longitude   Latitude\n612846  1.238586 -119.583046  44.871090\n616046  1.562117 -119.591080  44.866467\n616047  1.004026 -119.581451  44.864914\n882414  1.036379 -111.593269  42.685574\n891440  1.141526 -117.921265  43.992130",
      "text/html": "<div>\n<style scoped>\n    .dataframe tbody tr th:only-of-type {\n        vertical-align: middle;\n    }\n\n    .dataframe tbody tr th {\n        vertical-align: top;\n    }\n\n    .dataframe thead th {\n        text-align: right;\n    }\n</style>\n<table border=\"1\" class=\"dataframe\">\n  <thead>\n    <tr style=\"text-align: right;\">\n      <th></th>\n      <th>Fire</th>\n      <th>Longitude</th>\n      <th>Latitude</th>\n    </tr>\n  </thead>\n  <tbody>\n    <tr>\n      <th>612846</th>\n      <td>1.238586</td>\n      <td>-119.583046</td>\n      <td>44.871090</td>\n    </tr>\n    <tr>\n      <th>616046</th>\n      <td>1.562117</td>\n      <td>-119.591080</td>\n      <td>44.866467</td>\n    </tr>\n    <tr>\n      <th>616047</th>\n      <td>1.004026</td>\n      <td>-119.581451</td>\n      <td>44.864914</td>\n    </tr>\n    <tr>\n      <th>882414</th>\n      <td>1.036379</td>\n      <td>-111.593269</td>\n      <td>42.685574</td>\n    </tr>\n    <tr>\n      <th>891440</th>\n      <td>1.141526</td>\n      <td>-117.921265</td>\n      <td>43.992130</td>\n    </tr>\n  </tbody>\n</table>\n</div>"
     },
     "execution_count": 38,
     "metadata": {},
     "output_type": "execute_result"
    }
   ],
   "source": [
    "actual_anomaly = fire_location_df_v1.loc[fire_location_df_v1['Fire'] >= 0.85]\n",
    "actual_anomaly.head()"
   ],
   "metadata": {
    "collapsed": false,
    "pycharm": {
     "name": "#%%\n"
    }
   }
  },
  {
   "cell_type": "code",
   "execution_count": 39,
   "outputs": [
    {
     "data": {
      "text/plain": "3501"
     },
     "execution_count": 39,
     "metadata": {},
     "output_type": "execute_result"
    }
   ],
   "source": [
    "len(actual_anomaly)"
   ],
   "metadata": {
    "collapsed": false,
    "pycharm": {
     "name": "#%%\n"
    }
   }
  },
  {
   "cell_type": "code",
   "execution_count": 40,
   "outputs": [
    {
     "name": "stderr",
     "output_type": "stream",
     "text": [
      "C:\\TheFourthReich\\anaconda3\\envs\\gisenv\\lib\\site-packages\\ipykernel_launcher.py:1: SettingWithCopyWarning: \n",
      "A value is trying to be set on a copy of a slice from a DataFrame.\n",
      "Try using .loc[row_indexer,col_indexer] = value instead\n",
      "\n",
      "See the caveats in the documentation: https://pandas.pydata.org/pandas-docs/stable/user_guide/indexing.html#returning-a-view-versus-a-copy\n",
      "  \"\"\"Entry point for launching an IPython kernel.\n"
     ]
    },
    {
     "data": {
      "text/plain": "            Fire   Longitude   Latitude  \\\n612846  1.238586 -119.583046  44.871090   \n616046  1.562117 -119.591080  44.866467   \n616047  1.004026 -119.581451  44.864914   \n882414  1.036379 -111.593269  42.685574   \n891440  1.141526 -117.921265  43.992130   \n\n                                            geometry  \n612846  POINT (-119.5830459594727 44.87108993530273)  \n616046   POINT (-119.5910797119141 44.8664665222168)  \n616047  POINT (-119.5814514160156 44.86491394042969)  \n882414  POINT (-111.5932693481445 42.68557357788086)  \n891440  POINT (-117.9212646484375 43.99213027954102)  ",
      "text/html": "<div>\n<style scoped>\n    .dataframe tbody tr th:only-of-type {\n        vertical-align: middle;\n    }\n\n    .dataframe tbody tr th {\n        vertical-align: top;\n    }\n\n    .dataframe thead th {\n        text-align: right;\n    }\n</style>\n<table border=\"1\" class=\"dataframe\">\n  <thead>\n    <tr style=\"text-align: right;\">\n      <th></th>\n      <th>Fire</th>\n      <th>Longitude</th>\n      <th>Latitude</th>\n      <th>geometry</th>\n    </tr>\n  </thead>\n  <tbody>\n    <tr>\n      <th>612846</th>\n      <td>1.238586</td>\n      <td>-119.583046</td>\n      <td>44.871090</td>\n      <td>POINT (-119.5830459594727 44.87108993530273)</td>\n    </tr>\n    <tr>\n      <th>616046</th>\n      <td>1.562117</td>\n      <td>-119.591080</td>\n      <td>44.866467</td>\n      <td>POINT (-119.5910797119141 44.8664665222168)</td>\n    </tr>\n    <tr>\n      <th>616047</th>\n      <td>1.004026</td>\n      <td>-119.581451</td>\n      <td>44.864914</td>\n      <td>POINT (-119.5814514160156 44.86491394042969)</td>\n    </tr>\n    <tr>\n      <th>882414</th>\n      <td>1.036379</td>\n      <td>-111.593269</td>\n      <td>42.685574</td>\n      <td>POINT (-111.5932693481445 42.68557357788086)</td>\n    </tr>\n    <tr>\n      <th>891440</th>\n      <td>1.141526</td>\n      <td>-117.921265</td>\n      <td>43.992130</td>\n      <td>POINT (-117.9212646484375 43.99213027954102)</td>\n    </tr>\n  </tbody>\n</table>\n</div>"
     },
     "execution_count": 40,
     "metadata": {},
     "output_type": "execute_result"
    }
   ],
   "source": [
    "actual_anomaly['geometry'] = [Point(x,y) for x,y in zip(actual_anomaly['Longitude'], actual_anomaly['Latitude'])]\n",
    "actual_anomaly.head()"
   ],
   "metadata": {
    "collapsed": false,
    "pycharm": {
     "name": "#%%\n"
    }
   }
  },
  {
   "cell_type": "code",
   "execution_count": 41,
   "outputs": [],
   "source": [
    "geo = gpd.GeoDataFrame(data=actual_anomaly, geometry=actual_anomaly['geometry'])"
   ],
   "metadata": {
    "collapsed": false,
    "pycharm": {
     "name": "#%%\n"
    }
   }
  },
  {
   "cell_type": "code",
   "execution_count": 42,
   "outputs": [],
   "source": [
    "geo.crs\n"
   ],
   "metadata": {
    "collapsed": false,
    "pycharm": {
     "name": "#%%\n"
    }
   }
  },
  {
   "cell_type": "code",
   "execution_count": 43,
   "outputs": [
    {
     "data": {
      "text/plain": "<class 'netCDF4._netCDF4.Dataset'>\nroot group (NETCDF4 data model, file format HDF5):\n    title: VIIRS M-band Geolocation Data\n    instrument: VIIRS\n    product_name: VNP03MOD_NRT.A2020233.1000.001.2020233121620.nc\n    LocalGranuleID: VNP03MOD_NRT.A2020233.1000.001.2020233121620.nc\n    processing_version: v2.0.3\n    Conventions: CF-1.6\n    institution: NASA Goddard Space Flight Center, VIIRS L1 Processing Group\n    license: http://science.nasa.gov/earth-science/earth-science-data/data-information-policy/\n    naming_authority: gov.nasa.gsfc.VIIRSland\n    date_created: 2020-08-20T08:16:20Z\n    ProductionTime: 2020-08-20T08:16:20Z\n    keywords_vocabulary: NASA Global Change Master Directory (GCMD) Science Keywords\n    stdname_vocabulary: NetCDF Climate and Forecast (CF) Metadata Convention\n    creator_name: VIIRS L1 Processing Group\n    creator_email: modis-ops@lists.nasa.gov\n    creator_url: http://ladsweb.nascom.nasa.gov\n    project: VIIRS L1 Project\n    publisher_name: LAADS\n    publisher_url: http://ladsweb.nascom.nasa.gov\n    publisher_email: modis-ops@lists.nasa.gov\n    processing_level: GEO\n    cdm_data_type: swath\n    number_of_filled_scans: 202\n    OrbitNumber: 45670\n    history: geolocate_viirs.exe PGE501.1.AS5001.NPP_OPS.2020-233T10:00.NA.2020-233T12:16:19.52052711.pcf\n    source: VNP01_NRT.A2020233.1000.001.2020233121538.nc,VIIRS_NPP_CAL_STATIC_LUT_v2.0.0.41_20200717_vcst.nc,VIIRS_NPP_CAL_RSB_DYNAMIC_LUT_20120103_20220101_v2.0.0.41_20200717_vcst.nc,VIIRS_NPP_CAL_DNB_DYNAMIC_LUT_20120121_20200926_v2.0.0.41_20200717_vcst.nc,VIIRS_NPP_CAL_STRAYLIGHT_DYNAMIC_LUT_20120123_20201214_v2.0.0.41_20200717_vcst.nc,VIIRS_NPP_CMN_LUT_v2.0.0.41_20200717_vcst.nc,VIIRS_NPP_GEO_LUT_20200321110000_vcst.nc,off_USNO-PolarWander-UT1-ANC_Ser7_USNO_000f_20200814_202008140000Z_20200814000101Z_ee20200821120000Z_np.ascii\n    time_coverage_start: 2020-08-20T10:00:00.000Z\n    TAI93_leapseconds: 10\n    time_coverage_end: 2020-08-20T10:06:00.000Z\n    PGE_StartTime: 2020-08-20 10:00:00.000\n    PGE_EndTime: 2020-08-20 10:06:00.000\n    StartTime: 2020-08-20 10:00:00.000\n    EndTime: 2020-08-20 10:06:00.000\n    PGE_Name: PGE501\n    VersionId: 001\n    startDirection: Descending\n    endDirection: Descending\n    DayNightFlag: Night\n    format_version: 2\n    instrument_number: 2\n    GRingPointSequenceNo: [1 2 3 4]\n    PGEVersion: 2.0.9\n    GRingPointLatitude: [22.131943 26.73425  47.533764 41.679203]\n    GRingPointLongitude: [-111.46205 -141.32498 -139.74637 -101.43392]\n    geospatial_lat_units: degrees_north\n    geospatial_lon_units: degrees_east\n    geospatial_lat_min: 22.131943\n    geospatial_lat_max: 47.559135\n    geospatial_lon_min: -141.32498\n    geospatial_lon_max: -101.43392\n    SouthBoundingCoordinate: 22.131943\n    NorthBoundingCoordinate: 47.559135\n    WestBoundingCoordinate: -141.32498\n    EastBoundingCoordinate: -101.43392\n    RangeBeginningTime: 10:00:00.000000\n    RangeBeginningDate: 2020-08-20\n    SatelliteInstrument: NPP_OPS\n    identifier_product_doi_authority: http://dx.doi.org\n    ProcessingCenter: MODAPS-NASA\n    RangeEndingTime: 10:06:00.000000\n    identifier_product_doi: 10.5067/VIIRS/VNP03MOD_NRT.001\n    ProcessingEnvironment: Linux nrt3min105 3.10.0-1062.12.1.el7.x86_64 #1 SMP Tue Feb 4 23:02:59 UTC 2020 x86_64 x86_64 x86_64 GNU/Linux\n    RangeEndingDate: 2020-08-20\n    AlgorithmVersion: NPP_PR03_L1WG v2.0.3\n    InputPointer: VNP01_NRT.A2020233.1000.001.2020233121538.nc,TLE-AUX_npp_20200820071703Z_20200820023923Z_ee00000000000000Z_-_c3s-_ops_all-_ops.txt,off_USNO-PolarWander-UT1-ANC_Ser7_USNO_000f_20200814_202008140000Z_20200814000101Z_ee20200821120000Z_np.ascii,VIIRS_NPP_CAL_STATIC_LUT_v2.0.0.41_20200717_vcst.nc,VIIRS_NPP_CMN_LUT_v2.0.0.41_20200717_vcst.nc,VIIRS_NPP_GEO_LUT_20200321110000_vcst.nc\n    AlgorithmType: SCI\n    ShortName: VNP03MOD_NRT\n    LongName: VIIRS/NPP Moderate Resolution Terrain Corrected Geolocation 6-Min L1 Swath IP 750m NRT\n    platform: Suomi-NPP\n    dimensions(sizes): number_of_scans(202), number_of_lines(3232), number_of_pixels(3200), vector_elements(3), quaternion_elements(4)\n    variables(dimensions): \n    groups: scan_line_attributes, geolocation_data, navigation_data"
     },
     "execution_count": 43,
     "metadata": {},
     "output_type": "execute_result"
    }
   ],
   "source": [
    "geolocation_data"
   ],
   "metadata": {
    "collapsed": false,
    "pycharm": {
     "name": "#%%\n"
    }
   }
  },
  {
   "cell_type": "code",
   "execution_count": 44,
   "outputs": [
    {
     "data": {
      "text/plain": "             Fire   Longitude   Latitude                     geometry\n612846   1.238586 -119.583046  44.871090  POINT (-119.58305 44.87109)\n616046   1.562117 -119.591080  44.866467  POINT (-119.59108 44.86647)\n616047   1.004026 -119.581451  44.864914  POINT (-119.58145 44.86491)\n882414   1.036379 -111.593269  42.685574  POINT (-111.59327 42.68557)\n891440   1.141526 -117.921265  43.992130  POINT (-117.92126 43.99213)\n...           ...         ...        ...                          ...\n6066441  0.858437 -115.831406  32.429142  POINT (-115.83141 32.42914)\n6114444  0.850349 -115.837440  32.329426  POINT (-115.83744 32.32943)\n6152845  0.850349 -115.855011  32.261822  POINT (-115.85501 32.26182)\n6152846  0.850349 -115.843140  32.259171  POINT (-115.84314 32.25917)\n6152847  0.850349 -115.831268  32.256527  POINT (-115.83127 32.25653)\n\n[3501 rows x 4 columns]",
      "text/html": "<div>\n<style scoped>\n    .dataframe tbody tr th:only-of-type {\n        vertical-align: middle;\n    }\n\n    .dataframe tbody tr th {\n        vertical-align: top;\n    }\n\n    .dataframe thead th {\n        text-align: right;\n    }\n</style>\n<table border=\"1\" class=\"dataframe\">\n  <thead>\n    <tr style=\"text-align: right;\">\n      <th></th>\n      <th>Fire</th>\n      <th>Longitude</th>\n      <th>Latitude</th>\n      <th>geometry</th>\n    </tr>\n  </thead>\n  <tbody>\n    <tr>\n      <th>612846</th>\n      <td>1.238586</td>\n      <td>-119.583046</td>\n      <td>44.871090</td>\n      <td>POINT (-119.58305 44.87109)</td>\n    </tr>\n    <tr>\n      <th>616046</th>\n      <td>1.562117</td>\n      <td>-119.591080</td>\n      <td>44.866467</td>\n      <td>POINT (-119.59108 44.86647)</td>\n    </tr>\n    <tr>\n      <th>616047</th>\n      <td>1.004026</td>\n      <td>-119.581451</td>\n      <td>44.864914</td>\n      <td>POINT (-119.58145 44.86491)</td>\n    </tr>\n    <tr>\n      <th>882414</th>\n      <td>1.036379</td>\n      <td>-111.593269</td>\n      <td>42.685574</td>\n      <td>POINT (-111.59327 42.68557)</td>\n    </tr>\n    <tr>\n      <th>891440</th>\n      <td>1.141526</td>\n      <td>-117.921265</td>\n      <td>43.992130</td>\n      <td>POINT (-117.92126 43.99213)</td>\n    </tr>\n    <tr>\n      <th>...</th>\n      <td>...</td>\n      <td>...</td>\n      <td>...</td>\n      <td>...</td>\n    </tr>\n    <tr>\n      <th>6066441</th>\n      <td>0.858437</td>\n      <td>-115.831406</td>\n      <td>32.429142</td>\n      <td>POINT (-115.83141 32.42914)</td>\n    </tr>\n    <tr>\n      <th>6114444</th>\n      <td>0.850349</td>\n      <td>-115.837440</td>\n      <td>32.329426</td>\n      <td>POINT (-115.83744 32.32943)</td>\n    </tr>\n    <tr>\n      <th>6152845</th>\n      <td>0.850349</td>\n      <td>-115.855011</td>\n      <td>32.261822</td>\n      <td>POINT (-115.85501 32.26182)</td>\n    </tr>\n    <tr>\n      <th>6152846</th>\n      <td>0.850349</td>\n      <td>-115.843140</td>\n      <td>32.259171</td>\n      <td>POINT (-115.84314 32.25917)</td>\n    </tr>\n    <tr>\n      <th>6152847</th>\n      <td>0.850349</td>\n      <td>-115.831268</td>\n      <td>32.256527</td>\n      <td>POINT (-115.83127 32.25653)</td>\n    </tr>\n  </tbody>\n</table>\n<p>3501 rows × 4 columns</p>\n</div>"
     },
     "execution_count": 44,
     "metadata": {},
     "output_type": "execute_result"
    }
   ],
   "source": [
    "geo.set_crs(epsg=4326, inplace=True)"
   ],
   "metadata": {
    "collapsed": false,
    "pycharm": {
     "name": "#%%\n"
    }
   }
  },
  {
   "cell_type": "code",
   "execution_count": 45,
   "outputs": [
    {
     "data": {
      "text/plain": "<Geographic 2D CRS: EPSG:4326>\nName: WGS 84\nAxis Info [ellipsoidal]:\n- Lat[north]: Geodetic latitude (degree)\n- Lon[east]: Geodetic longitude (degree)\nArea of Use:\n- name: World.\n- bounds: (-180.0, -90.0, 180.0, 90.0)\nDatum: World Geodetic System 1984\n- Ellipsoid: WGS 84\n- Prime Meridian: Greenwich"
     },
     "execution_count": 45,
     "metadata": {},
     "output_type": "execute_result"
    }
   ],
   "source": [
    "geo.crs"
   ],
   "metadata": {
    "collapsed": false,
    "pycharm": {
     "name": "#%%\n"
    }
   }
  },
  {
   "cell_type": "code",
   "execution_count": 46,
   "outputs": [
    {
     "name": "stdout",
     "output_type": "stream",
     "text": [
      "User Guide: https://docs.kepler.gl/docs/keplergl-jupyter\n",
      "Map saved to output\\fire_locations.html!\n"
     ]
    }
   ],
   "source": [
    "base_map_1 = KeplerGl(height=600, width=800)\n",
    "base_map_1.add_data(data=geo.copy(), name = 'area_of_interest')\n",
    "base_map_1.save_to_html(file_name=r'output/fire_locations.html')"
   ],
   "metadata": {
    "collapsed": false,
    "pycharm": {
     "name": "#%%\n"
    }
   }
  },
  {
   "cell_type": "code",
   "execution_count": 47,
   "outputs": [
    {
     "data": {
      "text/plain": "count    3501.000000\nmean        1.907720\nstd         3.868737\nmin         0.850349\n25%         0.874614\n50%         0.915055\n75%         1.432704\nmax        81.328629\nName: Fire, dtype: float64"
     },
     "execution_count": 47,
     "metadata": {},
     "output_type": "execute_result"
    }
   ],
   "source": [
    "geo['Fire'].describe()\n"
   ],
   "metadata": {
    "collapsed": false,
    "pycharm": {
     "name": "#%%\n"
    }
   }
  },
  {
   "cell_type": "code",
   "execution_count": 48,
   "outputs": [
    {
     "data": {
      "text/plain": "              Fire   Longitude   Latitude                     geometry\n6152847   0.850349 -115.831268  32.256527  POINT (-115.83127 32.25653)\n4251790   0.850349 -116.809174  36.558914  POINT (-116.80917 36.55891)\n4420853   0.850349 -122.222397  37.190510  POINT (-122.22240 37.19051)\n4251754   0.850349 -117.248749  36.648998  POINT (-117.24875 36.64900)\n4251752   0.850349 -117.273308  36.653980  POINT (-117.27331 36.65398)\n...            ...         ...        ...                          ...\n3310314  49.970406 -122.716370  39.624355  POINT (-122.71637 39.62436)\n3684779  57.266026 -122.382622  38.778576  POINT (-122.38262 38.77858)\n3227116  67.546219 -122.649368  39.791039  POINT (-122.64937 39.79104)\n3684778  75.359489 -122.391418  38.779934  POINT (-122.39142 38.77993)\n3313514  81.328629 -122.717957  39.617767  POINT (-122.71796 39.61777)\n\n[3501 rows x 4 columns]",
      "text/html": "<div>\n<style scoped>\n    .dataframe tbody tr th:only-of-type {\n        vertical-align: middle;\n    }\n\n    .dataframe tbody tr th {\n        vertical-align: top;\n    }\n\n    .dataframe thead th {\n        text-align: right;\n    }\n</style>\n<table border=\"1\" class=\"dataframe\">\n  <thead>\n    <tr style=\"text-align: right;\">\n      <th></th>\n      <th>Fire</th>\n      <th>Longitude</th>\n      <th>Latitude</th>\n      <th>geometry</th>\n    </tr>\n  </thead>\n  <tbody>\n    <tr>\n      <th>6152847</th>\n      <td>0.850349</td>\n      <td>-115.831268</td>\n      <td>32.256527</td>\n      <td>POINT (-115.83127 32.25653)</td>\n    </tr>\n    <tr>\n      <th>4251790</th>\n      <td>0.850349</td>\n      <td>-116.809174</td>\n      <td>36.558914</td>\n      <td>POINT (-116.80917 36.55891)</td>\n    </tr>\n    <tr>\n      <th>4420853</th>\n      <td>0.850349</td>\n      <td>-122.222397</td>\n      <td>37.190510</td>\n      <td>POINT (-122.22240 37.19051)</td>\n    </tr>\n    <tr>\n      <th>4251754</th>\n      <td>0.850349</td>\n      <td>-117.248749</td>\n      <td>36.648998</td>\n      <td>POINT (-117.24875 36.64900)</td>\n    </tr>\n    <tr>\n      <th>4251752</th>\n      <td>0.850349</td>\n      <td>-117.273308</td>\n      <td>36.653980</td>\n      <td>POINT (-117.27331 36.65398)</td>\n    </tr>\n    <tr>\n      <th>...</th>\n      <td>...</td>\n      <td>...</td>\n      <td>...</td>\n      <td>...</td>\n    </tr>\n    <tr>\n      <th>3310314</th>\n      <td>49.970406</td>\n      <td>-122.716370</td>\n      <td>39.624355</td>\n      <td>POINT (-122.71637 39.62436)</td>\n    </tr>\n    <tr>\n      <th>3684779</th>\n      <td>57.266026</td>\n      <td>-122.382622</td>\n      <td>38.778576</td>\n      <td>POINT (-122.38262 38.77858)</td>\n    </tr>\n    <tr>\n      <th>3227116</th>\n      <td>67.546219</td>\n      <td>-122.649368</td>\n      <td>39.791039</td>\n      <td>POINT (-122.64937 39.79104)</td>\n    </tr>\n    <tr>\n      <th>3684778</th>\n      <td>75.359489</td>\n      <td>-122.391418</td>\n      <td>38.779934</td>\n      <td>POINT (-122.39142 38.77993)</td>\n    </tr>\n    <tr>\n      <th>3313514</th>\n      <td>81.328629</td>\n      <td>-122.717957</td>\n      <td>39.617767</td>\n      <td>POINT (-122.71796 39.61777)</td>\n    </tr>\n  </tbody>\n</table>\n<p>3501 rows × 4 columns</p>\n</div>"
     },
     "execution_count": 48,
     "metadata": {},
     "output_type": "execute_result"
    }
   ],
   "source": [
    "geo.sort_values(by='Fire')"
   ],
   "metadata": {
    "collapsed": false,
    "pycharm": {
     "name": "#%%\n"
    }
   }
  },
  {
   "cell_type": "code",
   "execution_count": null,
   "outputs": [],
   "source": [],
   "metadata": {
    "collapsed": false,
    "pycharm": {
     "name": "#%%\n"
    }
   }
  }
 ],
 "metadata": {
  "kernelspec": {
   "name": "pycharm-16c9b7e3",
   "language": "python",
   "display_name": "PyCharm (Aman_GIS_OSMnx_Berlin)"
  },
  "language_info": {
   "codemirror_mode": {
    "name": "ipython",
    "version": 2
   },
   "file_extension": ".py",
   "mimetype": "text/x-python",
   "name": "python",
   "nbconvert_exporter": "python",
   "pygments_lexer": "ipython2",
   "version": "2.7.6"
  }
 },
 "nbformat": 4,
 "nbformat_minor": 0
}